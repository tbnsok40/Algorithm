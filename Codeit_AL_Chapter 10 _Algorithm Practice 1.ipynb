{
 "cells": [
  {
   "cell_type": "markdown",
   "metadata": {},
   "source": [
    "# 투자 귀재 규식이 1"
   ]
  },
  {
   "cell_type": "code",
   "execution_count": null,
   "metadata": {},
   "outputs": [],
   "source": [
    "def sublist_max(profits):\n",
    "\n",
    "# 구간별 차이가 최대로 나오는 구간. \n",
    "# 차이가 아니라, 각 원소들을 다 더했을 때 가장 큰 값 나오는 구간\n",
    "# 양쪽 끝이 양수인 경우\n",
    "# 가장 큰 양수 일단 pick\n",
    "    new = []\n",
    "    for i in range(len(profits)):\n",
    "        if profits[i] > 0:\n",
    "            new.append(i)\n",
    "    # 양수 인덱스 모았고, 이걸 brute force로 모두 계산?\n",
    "    \n",
    "#     for i in range(len(new)):\n",
    "#         for j in range(i+1, len(new)):\n",
    "    return new\n",
    "            \n",
    "            \n",
    "# 테스트\n",
    "print(sublist_max([4, 3, 8, -2, -5, -3, -5, -3]))\n",
    "print(sublist_max([2, 3, 1, -1, -2, 5, -1, -1]))\n",
    "print(sublist_max([7, -3, 14, -8, -5, 6, 8, -5, -4, 10, -1, 8]))"
   ]
  },
  {
   "cell_type": "code",
   "execution_count": null,
   "metadata": {},
   "outputs": [],
   "source": [
    "def sublist_max(profits):\n",
    "\n",
    "    new = []\n",
    "    for i in range(len(profits)):\n",
    "        if profits[i] > 0:\n",
    "            new.append(i)\n",
    "    \n",
    "    max = -1\n",
    "    \n",
    "    for i in (new):\n",
    "        for j in (new):\n",
    "            temp = sum(profits[i:j+1])\n",
    "            if temp > max:\n",
    "                max = temp\n",
    "    return max\n",
    "# 테스트\n",
    "print(sublist_max([4, 3, 8, -2, -5, -3, -5, -3]))\n",
    "print(sublist_max([2, 3, 1, -1, -2, 5, -1, -1]))\n",
    "print(sublist_max([7, -3, 14, -8, -5, 6, 8, -5, -4, 10, -1, 8]))"
   ]
  },
  {
   "cell_type": "code",
   "execution_count": null,
   "metadata": {},
   "outputs": [],
   "source": [
    "#codeit max() 함수 사용할줄 알기.\n",
    "# 나는 양수를 선별해야한다 생각했는데, 굳이 그런 과정이 필요가 없더라. \n",
    "\n",
    "def sublist_max(profits):\n",
    "    max_profit = profits[0]\n",
    "    \n",
    "    for i in range(len(profits)):\n",
    "        total = 0\n",
    "        for j in range(i,len(profits)):\n",
    "            total += profits[j]\n",
    "            max_profit = max(max_profit, total)\n",
    "            \n",
    "    # 결국 이중 for문만이 연산할 수 있는 구조\n",
    "\n",
    "return max_profit\n",
    "\n",
    "\n",
    "# 테스트\n",
    "print(sublist_max([4, 3, 8, -2, -5, -3, -5, -3]))\n",
    "print(sublist_max([2, 3, 1, -1, -2, 5, -1, -1]))\n",
    "print(sublist_max([7, -3, 14, -8, -5, 6, 8, -5, -4, 10, -1, 8]))"
   ]
  },
  {
   "cell_type": "markdown",
   "metadata": {},
   "source": [
    "# 거듭제곱 빠르게 계산하기"
   ]
  },
  {
   "cell_type": "code",
   "execution_count": null,
   "metadata": {},
   "outputs": [],
   "source": [
    "\n",
    "import time\n",
    "start = time.time()  # 시작 시간 저장\n",
    " \n",
    " \n",
    "# 작업 코드\n",
    "\n",
    "\n",
    "def power(x, y):\n",
    "    #x를 y번 곱한다\n",
    "    if y == 1:\n",
    "        \n",
    "        return x\n",
    "    \n",
    "    \n",
    "    if (y % 2 == 0):\n",
    "        y = y // 2 \n",
    "        return power(x,y) * power(x,y)\n",
    "\n",
    "    else:\n",
    "        return power(x,1) * power(x,y-1)\n",
    "    \n",
    "\n",
    "\n",
    "# 테스트\n",
    "print(power(3, 5))\n",
    "print(power(5, 6))\n",
    "print(power(7, 9))\n",
    "\n",
    "print(\"time :\", time.time() - start)"
   ]
  },
  {
   "cell_type": "markdown",
   "metadata": {},
   "source": [
    "# 산 오르기"
   ]
  },
  {
   "cell_type": "code",
   "execution_count": 2,
   "metadata": {},
   "outputs": [
    {
     "name": "stdout",
     "output_type": "stream",
     "text": [
      "[4, 7, 11, 13, 16, 20, 24, 26]\n",
      "[5, 8, 12, 17, 23, 28, 32, 38, 44, 47]\n"
     ]
    }
   ],
   "source": [
    "def select_stops(water_stops, cap):\n",
    "    # stops에 들어간 원소 = b\n",
    "    # next 원소 = a\n",
    "    # a - b > capacity이면 a 이전 원소를 stops에 넣는다.\n",
    "    # 첫 시작지는 처리해준다.\n",
    "    stops = []\n",
    "    per_cap = cap\n",
    "\n",
    "\n",
    "    while len(water_stops) > 1:\n",
    "        for i in range(len(water_stops)):\n",
    "            if water_stops[i] > cap:\n",
    "                stops.append(water_stops[i-1])\n",
    "                cap = water_stops[i-1] + per_cap\n",
    "                water_stops = water_stops[i:]\n",
    "\n",
    "                break\n",
    "                        \n",
    "    stops.append(water_stops[0])\n",
    "\n",
    "    return stops\n",
    "    \n",
    "    \n",
    "    \n",
    "# 테스트\n",
    "list1 = [1, 4, 5, 7, 11, 12, 13, 16, 18, 20, 22, 24, 26]\n",
    "print(select_stops(list1, 4))\n",
    "\n",
    "\n",
    "list2 = [5, 8, 12, 17, 20, 22, 23, 24, 28, 32, 38, 42, 44, 47]\n",
    "print(select_stops(list2, 6))\n",
    "\n",
    "# took 3 fuckin days to solve it, luv my life"
   ]
  },
  {
   "cell_type": "code",
   "execution_count": null,
   "metadata": {},
   "outputs": [],
   "source": [
    "# 코드잇 \n",
    "def select_stops(water_stops, capacity):\n",
    "    # 약수터 위치 리스트\n",
    "    stop_list = []\n",
    "\n",
    "    # 마지막 들른 약수터 위치\n",
    "    prev_stop = 0\n",
    "\n",
    "    for i in range(len(water_stops)):\n",
    "        # i 지점까지 갈 수 없으면, i - 1 지점 약수터를 들른다\n",
    "        if water_stops[i] - prev_stop > capacity:\n",
    "            stop_list.append(water_stops[i - 1])\n",
    "            prev_stop = water_stops[i - 1]\n",
    "\n",
    "    # 마지막 약수터는 무조건 간다\n",
    "    stop_list.append(water_stops[-1])\n",
    "\n",
    "    return stop_list\n",
    "\n",
    "\n",
    "# 애초에 while은 필요도 없고, 리스트 인덱싱도 필요없네"
   ]
  },
  {
   "cell_type": "markdown",
   "metadata": {},
   "source": [
    "# 중복 항목 찾기 1"
   ]
  },
  {
   "cell_type": "code",
   "execution_count": null,
   "metadata": {},
   "outputs": [],
   "source": [
    "def find_same_number(some_list):\n",
    "    seenthisshit = {}\n",
    "    \n",
    "    for i in range(len(some_list)):\n",
    "        seenthisshit[i] = some_list[i]\n",
    "        \n",
    "        if some_list[i+1] in seenthisshit.values():\n",
    "            \n",
    "            return some_list[i+1]\n",
    "    \n",
    "\n",
    "# 중복되는 수 ‘하나’만 리턴합니다.\n",
    "print(find_same_number([1, 4, 3, 5, 3, 2]))\n",
    "print(find_same_number([4, 1, 5, 2, 3, 5]))\n",
    "print(find_same_number([5, 2, 3, 4, 1, 6, 7, 8,4, 9, 3,2]))\n"
   ]
  },
  {
   "cell_type": "code",
   "execution_count": null,
   "metadata": {},
   "outputs": [],
   "source": [
    "#코드잇\n",
    "def find_same_number(some_list):\n",
    "    # 이미 나온 요소를 저장시켜줄 사전\n",
    "    elements_seen_so_far = {}\n",
    "\n",
    "    for element in some_list:\n",
    "        # 이미 나온 요소인지 확인하고 맞으면 요소를 리턴한다\n",
    "        if element in elements_seen_so_far:\n",
    "            return element\n",
    "\n",
    "        # 해당 요소를 사전에 저장시킨다\n",
    "        elements_seen_so_far[element] = True # 오 이렇게 저장시키구나\n",
    "\n",
    "print(find_same_number([1, 4, 3, 5, 3, 2]))\n",
    "print(find_same_number([4, 1, 5, 2, 3, 5]))\n",
    "print(find_same_number([5, 2, 3, 4, 1, 6, 7, 8, 9, 3]))"
   ]
  },
  {
   "cell_type": "code",
   "execution_count": null,
   "metadata": {},
   "outputs": [],
   "source": [
    "# 딕셔너리에 value저장시키는법\n",
    "seenthisshit[element] = True"
   ]
  },
  {
   "cell_type": "code",
   "execution_count": null,
   "metadata": {},
   "outputs": [],
   "source": [
    "list1 = [1, 4, 5, 7, 11, 12, 13, 16, 18, 20, 22, 24, 26]\n",
    "list1 = max(list1)\n"
   ]
  },
  {
   "cell_type": "code",
   "execution_count": null,
   "metadata": {},
   "outputs": [],
   "source": []
  }
 ],
 "metadata": {
  "kernelspec": {
   "display_name": "Python 3",
   "language": "python",
   "name": "python3"
  },
  "language_info": {
   "codemirror_mode": {
    "name": "ipython",
    "version": 3
   },
   "file_extension": ".py",
   "mimetype": "text/x-python",
   "name": "python",
   "nbconvert_exporter": "python",
   "pygments_lexer": "ipython3",
   "version": "3.7.3"
  }
 },
 "nbformat": 4,
 "nbformat_minor": 2
}
