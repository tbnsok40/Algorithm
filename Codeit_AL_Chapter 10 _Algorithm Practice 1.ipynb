{
 "cells": [
  {
   "cell_type": "markdown",
   "metadata": {},
   "source": [
    "# 투자 귀재 규식이 1"
   ]
  },
  {
   "cell_type": "code",
   "execution_count": 6,
   "metadata": {},
   "outputs": [
    {
     "name": "stdout",
     "output_type": "stream",
     "text": [
      "[0, 1, 2]\n",
      "[0, 1, 2, 5]\n",
      "[0, 2, 5, 6, 9, 11]\n"
     ]
    }
   ],
   "source": [
    "def sublist_max(profits):\n",
    "\n",
    "# 구간별 차이가 최대로 나오는 구간. \n",
    "# 차이가 아니라, 각 원소들을 다 더했을 때 가장 큰 값 나오는 구간\n",
    "# 양쪽 끝이 양수인 경우\n",
    "# 가장 큰 양수 일단 pick\n",
    "    new = []\n",
    "    for i in range(len(profits)):\n",
    "        if profits[i] > 0:\n",
    "            new.append(i)\n",
    "    # 양수 인덱스 모았고, 이걸 brute force로 모두 계산?\n",
    "    \n",
    "#     for i in range(len(new)):\n",
    "#         for j in range(i+1, len(new)):\n",
    "    return new\n",
    "            \n",
    "            \n",
    "# 테스트\n",
    "print(sublist_max([4, 3, 8, -2, -5, -3, -5, -3]))\n",
    "print(sublist_max([2, 3, 1, -1, -2, 5, -1, -1]))\n",
    "print(sublist_max([7, -3, 14, -8, -5, 6, 8, -5, -4, 10, -1, 8]))"
   ]
  },
  {
   "cell_type": "code",
   "execution_count": 17,
   "metadata": {},
   "outputs": [
    {
     "name": "stdout",
     "output_type": "stream",
     "text": [
      "15\n",
      "8\n",
      "27\n"
     ]
    }
   ],
   "source": [
    "def sublist_max(profits):\n",
    "\n",
    "    new = []\n",
    "    for i in range(len(profits)):\n",
    "        if profits[i] > 0:\n",
    "            new.append(i)\n",
    "    \n",
    "    max = -1\n",
    "    \n",
    "    for i in (new):\n",
    "        for j in (new):\n",
    "            temp = sum(profits[i:j+1])\n",
    "            if temp > max:\n",
    "                max = temp\n",
    "    return max\n",
    "# 테스트\n",
    "print(sublist_max([4, 3, 8, -2, -5, -3, -5, -3]))\n",
    "print(sublist_max([2, 3, 1, -1, -2, 5, -1, -1]))\n",
    "print(sublist_max([7, -3, 14, -8, -5, 6, 8, -5, -4, 10, -1, 8]))"
   ]
  },
  {
   "cell_type": "code",
   "execution_count": 1,
   "metadata": {},
   "outputs": [
    {
     "ename": "SyntaxError",
     "evalue": "'return' outside function (<ipython-input-1-4ad1e71d2de2>, line 15)",
     "output_type": "error",
     "traceback": [
      "\u001b[1;36m  File \u001b[1;32m\"<ipython-input-1-4ad1e71d2de2>\"\u001b[1;36m, line \u001b[1;32m15\u001b[0m\n\u001b[1;33m    return max_profit\u001b[0m\n\u001b[1;37m                     ^\u001b[0m\n\u001b[1;31mSyntaxError\u001b[0m\u001b[1;31m:\u001b[0m 'return' outside function\n"
     ]
    }
   ],
   "source": [
    "#codeit max() 함수 사용할줄 알기.\n",
    "# 나는 양수를 선별해야한다 생각했는데, 굳이 그런 과정이 필요가 없더라. \n",
    "\n",
    "def sublist_max(profits):\n",
    "    max_profit = profits[0]\n",
    "    \n",
    "    for i in range(len(profits)):\n",
    "        total = 0\n",
    "        for j in range(i,len(profits)):\n",
    "            total += profits[j]\n",
    "            max_profit = max(max_profit, total)\n",
    "            \n",
    "    # 결국 이중 for문만이 연산할 수 있는 구조\n",
    "\n",
    "return max_profit\n",
    "\n",
    "\n",
    "# 테스트\n",
    "print(sublist_max([4, 3, 8, -2, -5, -3, -5, -3]))\n",
    "print(sublist_max([2, 3, 1, -1, -2, 5, -1, -1]))\n",
    "print(sublist_max([7, -3, 14, -8, -5, 6, 8, -5, -4, 10, -1, 8]))"
   ]
  },
  {
   "cell_type": "markdown",
   "metadata": {},
   "source": [
    "# 거듭제곱 빠르게 계산하기"
   ]
  },
  {
   "cell_type": "code",
   "execution_count": 69,
   "metadata": {},
   "outputs": [
    {
     "name": "stdout",
     "output_type": "stream",
     "text": [
      "243\n",
      "15625\n",
      "40353607\n",
      "time : 0.0\n"
     ]
    }
   ],
   "source": [
    "\n",
    "import time\n",
    "start = time.time()  # 시작 시간 저장\n",
    " \n",
    " \n",
    "# 작업 코드\n",
    "\n",
    "\n",
    "def power(x, y):\n",
    "    #x를 y번 곱한다\n",
    "    if y == 1:\n",
    "        \n",
    "        return x\n",
    "    \n",
    "    \n",
    "    if (y % 2 == 0):\n",
    "        y = y // 2 \n",
    "        return power(x,y) * power(x,y)\n",
    "\n",
    "    else:\n",
    "        return power(x,1) * power(x,y-1)\n",
    "    \n",
    "\n",
    "\n",
    "# 테스트\n",
    "print(power(3, 5))\n",
    "print(power(5, 6))\n",
    "print(power(7, 9))\n",
    "\n",
    "print(\"time :\", time.time() - start)"
   ]
  },
  {
   "cell_type": "markdown",
   "metadata": {},
   "source": [
    "# 산 오르기"
   ]
  },
  {
   "cell_type": "code",
   "execution_count": 2,
   "metadata": {},
   "outputs": [
    {
     "ename": "IndexError",
     "evalue": "list index out of range",
     "output_type": "error",
     "traceback": [
      "\u001b[1;31m---------------------------------------------------------------------------\u001b[0m",
      "\u001b[1;31mIndexError\u001b[0m                                Traceback (most recent call last)",
      "\u001b[1;32m<ipython-input-2-e1865f0d90fe>\u001b[0m in \u001b[0;36m<module>\u001b[1;34m\u001b[0m\n\u001b[0;32m     19\u001b[0m \u001b[1;31m# 테스트\u001b[0m\u001b[1;33m\u001b[0m\u001b[1;33m\u001b[0m\u001b[1;33m\u001b[0m\u001b[0m\n\u001b[0;32m     20\u001b[0m \u001b[0mlist1\u001b[0m \u001b[1;33m=\u001b[0m \u001b[1;33m[\u001b[0m\u001b[1;36m1\u001b[0m\u001b[1;33m,\u001b[0m \u001b[1;36m4\u001b[0m\u001b[1;33m,\u001b[0m \u001b[1;36m5\u001b[0m\u001b[1;33m,\u001b[0m \u001b[1;36m7\u001b[0m\u001b[1;33m,\u001b[0m \u001b[1;36m11\u001b[0m\u001b[1;33m,\u001b[0m \u001b[1;36m12\u001b[0m\u001b[1;33m,\u001b[0m \u001b[1;36m13\u001b[0m\u001b[1;33m,\u001b[0m \u001b[1;36m16\u001b[0m\u001b[1;33m,\u001b[0m \u001b[1;36m18\u001b[0m\u001b[1;33m,\u001b[0m \u001b[1;36m20\u001b[0m\u001b[1;33m,\u001b[0m \u001b[1;36m22\u001b[0m\u001b[1;33m,\u001b[0m \u001b[1;36m24\u001b[0m\u001b[1;33m,\u001b[0m \u001b[1;36m26\u001b[0m\u001b[1;33m]\u001b[0m\u001b[1;33m\u001b[0m\u001b[1;33m\u001b[0m\u001b[0m\n\u001b[1;32m---> 21\u001b[1;33m \u001b[0mprint\u001b[0m\u001b[1;33m(\u001b[0m\u001b[0mselect_stops\u001b[0m\u001b[1;33m(\u001b[0m\u001b[0mlist1\u001b[0m\u001b[1;33m,\u001b[0m \u001b[1;36m4\u001b[0m\u001b[1;33m)\u001b[0m\u001b[1;33m)\u001b[0m\u001b[1;33m\u001b[0m\u001b[1;33m\u001b[0m\u001b[0m\n\u001b[0m\u001b[0;32m     22\u001b[0m \u001b[1;33m\u001b[0m\u001b[0m\n\u001b[0;32m     23\u001b[0m \u001b[0mlist2\u001b[0m \u001b[1;33m=\u001b[0m \u001b[1;33m[\u001b[0m\u001b[1;36m5\u001b[0m\u001b[1;33m,\u001b[0m \u001b[1;36m8\u001b[0m\u001b[1;33m,\u001b[0m \u001b[1;36m12\u001b[0m\u001b[1;33m,\u001b[0m \u001b[1;36m17\u001b[0m\u001b[1;33m,\u001b[0m \u001b[1;36m20\u001b[0m\u001b[1;33m,\u001b[0m \u001b[1;36m22\u001b[0m\u001b[1;33m,\u001b[0m \u001b[1;36m23\u001b[0m\u001b[1;33m,\u001b[0m \u001b[1;36m24\u001b[0m\u001b[1;33m,\u001b[0m \u001b[1;36m28\u001b[0m\u001b[1;33m,\u001b[0m \u001b[1;36m32\u001b[0m\u001b[1;33m,\u001b[0m \u001b[1;36m38\u001b[0m\u001b[1;33m,\u001b[0m \u001b[1;36m42\u001b[0m\u001b[1;33m,\u001b[0m \u001b[1;36m44\u001b[0m\u001b[1;33m,\u001b[0m \u001b[1;36m47\u001b[0m\u001b[1;33m]\u001b[0m\u001b[1;33m\u001b[0m\u001b[1;33m\u001b[0m\u001b[0m\n",
      "\u001b[1;32m<ipython-input-2-e1865f0d90fe>\u001b[0m in \u001b[0;36mselect_stops\u001b[1;34m(water_stops, capacity)\u001b[0m\n\u001b[0;32m      7\u001b[0m     \u001b[1;32mfor\u001b[0m \u001b[0mi\u001b[0m \u001b[1;32min\u001b[0m \u001b[0mrange\u001b[0m\u001b[1;33m(\u001b[0m\u001b[0mlen\u001b[0m\u001b[1;33m(\u001b[0m\u001b[0mwater_stops\u001b[0m\u001b[1;33m)\u001b[0m\u001b[1;33m)\u001b[0m\u001b[1;33m:\u001b[0m\u001b[1;33m\u001b[0m\u001b[1;33m\u001b[0m\u001b[0m\n\u001b[0;32m      8\u001b[0m \u001b[1;33m\u001b[0m\u001b[0m\n\u001b[1;32m----> 9\u001b[1;33m         \u001b[1;32mif\u001b[0m \u001b[0mwater_stops\u001b[0m\u001b[1;33m[\u001b[0m\u001b[0mi\u001b[0m\u001b[1;33m]\u001b[0m \u001b[1;33m-\u001b[0m \u001b[0mstart\u001b[0m \u001b[1;33m<=\u001b[0m \u001b[0mcapacity\u001b[0m\u001b[1;33m:\u001b[0m\u001b[1;33m\u001b[0m\u001b[1;33m\u001b[0m\u001b[0m\n\u001b[0m\u001b[0;32m     10\u001b[0m             \u001b[1;32mcontinue\u001b[0m\u001b[1;33m\u001b[0m\u001b[1;33m\u001b[0m\u001b[0m\n\u001b[0;32m     11\u001b[0m         \u001b[1;32melse\u001b[0m\u001b[1;33m:\u001b[0m\u001b[1;33m\u001b[0m\u001b[1;33m\u001b[0m\u001b[0m\n",
      "\u001b[1;31mIndexError\u001b[0m: list index out of range"
     ]
    }
   ],
   "source": [
    "def select_stops(water_stops, capacity):\n",
    "    \n",
    "    # 재귀를 쓰면, 함수 초기화하면서 버그가 생길 수 밖에 없는 구조.\n",
    "    # 근데 꼴은 딱 재귀쓰면 좋겠는데\n",
    "            \n",
    "    start = 0  # 첨엔 무조건 0 이었다가, 재호출 될 때부터 water_stops[0]\n",
    "    for i in range(len(water_stops)):\n",
    "        \n",
    "        if water_stops[i] - start <= capacity:\n",
    "            continue\n",
    "        else:\n",
    "            # i - 1 어디다 저장해\n",
    "            water_stops = water_stops[i-1:]\n",
    "    \n",
    "    \n",
    "    return select_stops(water_stops[i:], capacity)\n",
    "    \n",
    "    \n",
    "# 테스트\n",
    "list1 = [1, 4, 5, 7, 11, 12, 13, 16, 18, 20, 22, 24, 26]\n",
    "print(select_stops(list1, 4))\n",
    "\n",
    "list2 = [5, 8, 12, 17, 20, 22, 23, 24, 28, 32, 38, 42, 44, 47]\n",
    "print(select_stops(list2, 6))"
   ]
  },
  {
   "cell_type": "markdown",
   "metadata": {},
   "source": [
    "# 중복 항목 찾기 1"
   ]
  },
  {
   "cell_type": "code",
   "execution_count": 27,
   "metadata": {},
   "outputs": [
    {
     "name": "stdout",
     "output_type": "stream",
     "text": [
      "3\n",
      "5\n",
      "3\n"
     ]
    }
   ],
   "source": [
    "def find_same_number(some_list):\n",
    "    seenthisshit = {}\n",
    "    \n",
    "    for i in range(len(some_list)):\n",
    "        seenthisshit[i] = some_list[i]\n",
    "#         print(seenthisshit)\n",
    "        \n",
    "        if some_list[i+1] in seenthisshit.values():\n",
    "            \n",
    "            return some_list[i+1]\n",
    "    \n",
    "\n",
    "# 중복되는 수 ‘하나’만 리턴합니다.\n",
    "print(find_same_number([1, 4, 3, 5, 3, 2]))\n",
    "print(find_same_number([4, 1, 5, 2, 3, 5]))\n",
    "print(find_same_number([5, 2, 3, 4, 1, 6, 7, 8, 9, 3]))\n"
   ]
  },
  {
   "cell_type": "code",
   "execution_count": 8,
   "metadata": {},
   "outputs": [
    {
     "ename": "SyntaxError",
     "evalue": "invalid syntax (<ipython-input-8-88c918e9e77d>, line 2)",
     "output_type": "error",
     "traceback": [
      "\u001b[1;36m  File \u001b[1;32m\"<ipython-input-8-88c918e9e77d>\"\u001b[1;36m, line \u001b[1;32m2\u001b[0m\n\u001b[1;33m    seenthisshit{1:2}\u001b[0m\n\u001b[1;37m                ^\u001b[0m\n\u001b[1;31mSyntaxError\u001b[0m\u001b[1;31m:\u001b[0m invalid syntax\n"
     ]
    }
   ],
   "source": [
    "seenthisshit = {}\n",
    "seenthisshit()"
   ]
  },
  {
   "cell_type": "code",
   "execution_count": null,
   "metadata": {},
   "outputs": [],
   "source": []
  }
 ],
 "metadata": {
  "kernelspec": {
   "display_name": "Python 3",
   "language": "python",
   "name": "python3"
  },
  "language_info": {
   "codemirror_mode": {
    "name": "ipython",
    "version": 3
   },
   "file_extension": ".py",
   "mimetype": "text/x-python",
   "name": "python",
   "nbconvert_exporter": "python",
   "pygments_lexer": "ipython3",
   "version": "3.7.3"
  }
 },
 "nbformat": 4,
 "nbformat_minor": 2
}
