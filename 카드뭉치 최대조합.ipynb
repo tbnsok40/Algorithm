{
 "cells": [
  {
   "cell_type": "markdown",
   "metadata": {},
   "source": [
    "# 카드뭉치 최대 조합\n",
    "\n",
    "- Brute Force: 가능한 모든 시도를 다 해보는 것."
   ]
  },
  {
   "cell_type": "code",
   "execution_count": 3,
   "metadata": {},
   "outputs": [
    {
     "name": "stdout",
     "output_type": "stream",
     "text": [
      "24\n",
      "32\n",
      "28\n"
     ]
    }
   ],
   "source": [
    "def max_product(left_cards, right_cards):\n",
    "    lists = []\n",
    "    for i in left_cards:\n",
    "        for j in right_cards:\n",
    "            lists.append(i*j)\n",
    "            \n",
    "    return max(lists)\n",
    "\n",
    "# 테스트\n",
    "print(max_product([1, 6, 5], [4, 2, 3]))\n",
    "print(max_product([1, -9, 3, 4], [2, 8, 3, 1]))\n",
    "print(max_product([-1, -7, 3], [-4, 3, 6]))"
   ]
  },
  {
   "cell_type": "code",
   "execution_count": 7,
   "metadata": {},
   "outputs": [
    {
     "name": "stdout",
     "output_type": "stream",
     "text": [
      "24\n",
      "32\n",
      "28\n"
     ]
    }
   ],
   "source": [
    "# 코드잇 답\n",
    "\n",
    "def max_product(left_cards, right_cards):\n",
    "    # 현재까지 최댓값을 담기 위한 변수\n",
    "    # 처음에는 임시로 -1로 설정\n",
    "    max_product = -1\n",
    "    \n",
    "    # 가능한 모든 조합을 보기 위한 중첩 반복문\n",
    "    for left in left_cards:\n",
    "        for right in right_cards:\n",
    "            # 현재까지의 최댓값 값과 지금 보고 있는 곱을 비교해서 더 큰 값을 최댓값 변수에 담아준다\n",
    "            max_product = max(max_product, left * right)\n",
    "\n",
    "    # 찾은 최댓값을 리턴한다            \n",
    "    return max_product\n",
    "\n",
    "# 굳이 리스트를 만들지 않아도 된다.\n",
    "\n",
    "\n",
    "print(max_product([1, 6, 5], [4, 2, 3]))\n",
    "print(max_product([1, -9, 3, 4], [2, 8, 3, 1]))\n",
    "print(max_product([-1, -7, 3], [-4, 3, 6]))"
   ]
  },
  {
   "cell_type": "code",
   "execution_count": null,
   "metadata": {},
   "outputs": [],
   "source": [
    "\n"
   ]
  }
 ],
 "metadata": {
  "kernelspec": {
   "display_name": "Python 3",
   "language": "python",
   "name": "python3"
  },
  "language_info": {
   "codemirror_mode": {
    "name": "ipython",
    "version": 3
   },
   "file_extension": ".py",
   "mimetype": "text/x-python",
   "name": "python",
   "nbconvert_exporter": "python",
   "pygments_lexer": "ipython3",
   "version": "3.7.3"
  }
 },
 "nbformat": 4,
 "nbformat_minor": 2
}
