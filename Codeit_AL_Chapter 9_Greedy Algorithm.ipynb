{
 "cells": [
  {
   "cell_type": "markdown",
   "metadata": {},
   "source": [
    "# Greedy Algorithm (미래를 내다보지 않고 탐욕적인 선택을 한 것)\n",
    "- 장점: 간단하고 빠름\n",
    "- 단점: 최적의 답이 보장되지 않음\n",
    "\n",
    "언제 사용할까 -> 최적의 답이 필요 없을 때(간혹 최적의 답을 보장해주는 문제도 있다.)\n"
   ]
  },
  {
   "cell_type": "markdown",
   "metadata": {},
   "source": [
    "- 간단하고 빠르지만 최적의 답 보장X\n",
    "- BUT 간혹 최적의 답 보장\n",
    "1. 최적 부분 구조가 있고\n",
    "2. 탐욕적 선택 속성이 있다면 -> greedy algorithm으로 해결해야한다.\n",
    "\n",
    "-가능한 큰 동전으로 거슬러 준다 => 탐욕적 선택 속성\n",
    "\n",
    "-최적 부분 구조, 중복되는 부분 문제, 탐욕적 선택 속성이 없어도 Greedy Algorithm을 사용할 수 있습니다. 하지만 Greedy Algorithm이 최적의 솔루션을 보장해 주지는 않겠죠!\n",
    "\n",
    "- 우선 Greedy Algorithm의 필수 조건은 최적 부분 구조와 탐욕적 선택 속성입니다.\n",
    "- 영상에서 봤던 문제와 동전 크기만 다를 뿐, 이 문제도 사실상 같은 형태입니다. 그러니까 최적 부분 구조가 있겠죠.\n",
    "- 하지만 과연 탐욕적 선택 속성이 있을까요?\n",
    "- 140원을 거슬러 준다고 가정합시다. 만약 탐욕적으로 가장 큰 동전을 우선적으로 주면, 100원 1개와 10원 4개를 주게 될 것입니다. 하지만 사실은 70원 2개를 주는 것이 더 효율적이겠죠. 이 문제에서는 탐욕적인 선택이 결과적으로 최선의 선택이 아니기 때문에 탐욕적 선택 속성이 없습니다."
   ]
  },
  {
   "cell_type": "markdown",
   "metadata": {},
   "source": [
    "## 최소동전으로 거슬러주기"
   ]
  },
  {
   "cell_type": "code",
   "execution_count": 38,
   "metadata": {},
   "outputs": [
    {
     "name": "stdout",
     "output_type": "stream",
     "text": [
      "10\n",
      "5\n",
      "49\n",
      "70\n"
     ]
    }
   ],
   "source": [
    "def min_coin_count(value, coin_list):\n",
    "    coin_list = sorted(coin_list, reverse = True)\n",
    "    count = 0\n",
    "    for element in coin_list:\n",
    "        i = 1\n",
    "        while element * i <= value:\n",
    "            i = i + 1\n",
    "        value = value - (element * (i-1))\n",
    "        count += (i-1)\n",
    "    return count\n",
    "    \n",
    "# 테스트\n",
    "default_coin_list = [100, 500, 10, 50]\n",
    "print(min_coin_count(1440, default_coin_list))\n",
    "print(min_coin_count(1700, default_coin_list))\n",
    "print(min_coin_count(23520, default_coin_list))\n",
    "print(min_coin_count(32590, default_coin_list))\n",
    "\n",
    "# 배운점:\n",
    "sorted"
   ]
  },
  {
   "cell_type": "markdown",
   "metadata": {},
   "source": [
    "### 배운점:\n",
    "sorted() 함수 써줄 땐, \n",
    "sorted_list = sorted() 이런식으로 할당을 해줘야 한다.\n",
    "\n",
    "- % 나머지, // 정수 몫. "
   ]
  },
  {
   "cell_type": "code",
   "execution_count": 39,
   "metadata": {},
   "outputs": [],
   "source": [
    "# codeit 답\n",
    "\n",
    "def min_coin_count(value, coin_list):\n",
    "    # 누적 동전 개수\n",
    "    count = 0\n",
    "\n",
    "    # coin_list의 값들을 큰 순서대로 본다\n",
    "    for coin in sorted(coin_list, reverse=True):\n",
    "        # 현재 동전으로 몇 개 거슬러 줄 수 있는지 확인한다\n",
    "        count += (value // coin)\n",
    "\n",
    "        # 잔액을 계산한다\n",
    "        value %= coin\n",
    "\n",
    "    return count\n"
   ]
  },
  {
   "cell_type": "markdown",
   "metadata": {},
   "source": [
    "# 최대 곱 구하기 분석\n",
    "- 최적부분구조와 탐욕적 선택 속성 모두 있을 땐 greedy algorithm으로 최적의 솔루션 구할 수 있다."
   ]
  },
  {
   "cell_type": "code",
   "execution_count": 43,
   "metadata": {},
   "outputs": [
    {
     "name": "stdout",
     "output_type": "stream",
     "text": [
      "10800\n"
     ]
    }
   ],
   "source": [
    "def max_product(card_lists):\n",
    "    stack = 1\n",
    "    for element in card_lists:\n",
    "\n",
    "        stack *= max(element)\n",
    "    return stack\n",
    "\n",
    "\n",
    "# 예시\n",
    "test_cards = [[1, 2, 3], [4, 6, 1], [8, 2, 4], [3, 2, 5], [5, 2, 3], [3, 2, 1]]\n",
    "print(max_product(test_cards))"
   ]
  },
  {
   "cell_type": "markdown",
   "metadata": {},
   "source": [
    "# 지각 벌금 적게 내기 분석"
   ]
  },
  {
   "cell_type": "code",
   "execution_count": null,
   "metadata": {},
   "outputs": [],
   "source": [
    "def min_fee(pages_to_print):\n",
    "    stack = []\n",
    "    count = 0\n",
    "    slist = sorted(pages_to_print)\n",
    "    for i in range(len(slist)):\n",
    "        stack[i] = slist[i]\n",
    "        \n",
    "\n",
    "\n",
    "# 테스트\n",
    "print(min_fee([6, 11, 4, 1]))\n",
    "print(min_fee([3, 2, 1]))\n",
    "print(min_fee([3, 1, 4, 3, 2]))\n",
    "print(min_fee([8, 4, 2, 3, 9, 23, 6, 8]))\n"
   ]
  }
 ],
 "metadata": {
  "kernelspec": {
   "display_name": "Python 3",
   "language": "python",
   "name": "python3"
  },
  "language_info": {
   "codemirror_mode": {
    "name": "ipython",
    "version": 3
   },
   "file_extension": ".py",
   "mimetype": "text/x-python",
   "name": "python",
   "nbconvert_exporter": "python",
   "pygments_lexer": "ipython3",
   "version": "3.7.3"
  }
 },
 "nbformat": 4,
 "nbformat_minor": 2
}
