{
 "cells": [
  {
   "cell_type": "markdown",
   "metadata": {},
   "source": [
    "# Greedy Algorithm (미래를 내다보지 않고 탐욕적인 선택을 한 것)\n",
    "- 장점: 간단하고 빠름\n",
    "- 단점: 최적의 답이 보장되지 않음\n",
    "\n",
    "언제 사용할까 -> 최적의 답이 필요 없을 때(간혹 최적의 답을 보장해주는 문제도 있다.)\n"
   ]
  },
  {
   "cell_type": "markdown",
   "metadata": {},
   "source": [
    "- 간단하고 빠르지만 최적의 답 보장X\n",
    "- BUT 간혹 최적의 답 보장\n",
    "1. 최적 부분 구조가 있고\n",
    "2. 탐욕적 선택 속성이 있다면 -> greedy algorithm으로 해결해야한다.\n",
    "\n",
    "-가능한 큰 동전으로 거슬러 준다 => 탐욕적 선택 속성\n",
    "\n",
    "-최적 부분 구조, 중복되는 부분 문제, 탐욕적 선택 속성이 없어도 Greedy Algorithm을 사용할 수 있습니다. 하지만 Greedy Algorithm이 최적의 솔루션을 보장해 주지는 않겠죠!\n",
    "\n",
    "- 우선 Greedy Algorithm의 필수 조건은 최적 부분 구조와 탐욕적 선택 속성입니다.\n",
    "- 영상에서 봤던 문제와 동전 크기만 다를 뿐, 이 문제도 사실상 같은 형태입니다. 그러니까 최적 부분 구조가 있겠죠.\n",
    "- 하지만 과연 탐욕적 선택 속성이 있을까요?\n",
    "- 140원을 거슬러 준다고 가정합시다. 만약 탐욕적으로 가장 큰 동전을 우선적으로 주면, 100원 1개와 10원 4개를 주게 될 것입니다. 하지만 사실은 70원 2개를 주는 것이 더 효율적이겠죠. 이 문제에서는 탐욕적인 선택이 결과적으로 최선의 선택이 아니기 때문에 탐욕적 선택 속성이 없습니다."
   ]
  },
  {
   "cell_type": "markdown",
   "metadata": {},
   "source": [
    "## 최소동전으로 거슬러주기"
   ]
  },
  {
   "cell_type": "code",
   "execution_count": null,
   "metadata": {},
   "outputs": [],
   "source": [
    "def min_coin_count(value, coin_list):\n",
    "    coin_list = sorted(coin_list, reverse = True)\n",
    "    count = 0\n",
    "    for element in coin_list:\n",
    "        i = 1\n",
    "        while element * i <= value:\n",
    "            i = i + 1\n",
    "        value = value - (element * (i-1))\n",
    "        count += (i-1)\n",
    "    return count\n",
    "    \n",
    "# 테스트\n",
    "default_coin_list = [100, 500, 10, 50]\n",
    "print(min_coin_count(1440, default_coin_list))\n",
    "print(min_coin_count(1700, default_coin_list))\n",
    "print(min_coin_count(23520, default_coin_list))\n",
    "print(min_coin_count(32590, default_coin_list))\n",
    "\n",
    "# 배운점:\n",
    "sorted"
   ]
  },
  {
   "cell_type": "markdown",
   "metadata": {},
   "source": [
    "### 배운점:\n",
    "sorted() 함수 써줄 땐, \n",
    "sorted_list = sorted() 이런식으로 할당을 해줘야 한다.\n",
    "\n",
    "- % 나머지, // 정수 몫. "
   ]
  },
  {
   "cell_type": "code",
   "execution_count": null,
   "metadata": {},
   "outputs": [],
   "source": [
    "# codeit 답\n",
    "\n",
    "def min_coin_count(value, coin_list):\n",
    "    # 누적 동전 개수\n",
    "    count = 0\n",
    "\n",
    "    # coin_list의 값들을 큰 순서대로 본다\n",
    "    for coin in sorted(coin_list, reverse=True):\n",
    "        # 현재 동전으로 몇 개 거슬러 줄 수 있는지 확인한다\n",
    "        count += (value // coin)\n",
    "\n",
    "        # 잔액을 계산한다\n",
    "        value %= coin\n",
    "\n",
    "    return count\n"
   ]
  },
  {
   "cell_type": "markdown",
   "metadata": {},
   "source": [
    "# 최대 곱 구하기 분석\n",
    "- 최적부분구조와 탐욕적 선택 속성 모두 있을 땐 greedy algorithm으로 최적의 솔루션 구할 수 있다."
   ]
  },
  {
   "cell_type": "code",
   "execution_count": null,
   "metadata": {},
   "outputs": [],
   "source": [
    "def max_product(card_lists):\n",
    "    stack = 1\n",
    "    for element in card_lists:\n",
    "\n",
    "        stack *= max(element)\n",
    "    return stack\n",
    "\n",
    "\n",
    "# 예시\n",
    "test_cards = [[1, 2, 3], [4, 6, 1], [8, 2, 4], [3, 2, 5], [5, 2, 3], [3, 2, 1]]\n",
    "print(max_product(test_cards))"
   ]
  },
  {
   "cell_type": "markdown",
   "metadata": {},
   "source": [
    "# 지각 벌금 적게 내기 분석"
   ]
  },
  {
   "cell_type": "code",
   "execution_count": null,
   "metadata": {},
   "outputs": [],
   "source": [
    "def min_fee(pages_to_print):\n",
    "    count = 0\n",
    "    stack = []\n",
    "    slist = sorted(pages_to_print)\n",
    "    len_s = len(slist)\n",
    "    \n",
    "    for i in range(len_s):\n",
    "        \n",
    "        count = count + slist[i]\n",
    "        stack.append(count)\n",
    "        \n",
    "    return sum(stack)\n",
    "# 테스트\n",
    "print(min_fee([6, 11, 4, 1]))\n",
    "print(min_fee([3, 2, 1]))\n",
    "print(min_fee([3, 1, 4, 3, 2]))\n",
    "print(min_fee([8, 4, 2, 3, 9, 23, 6, 8]))\n"
   ]
  },
  {
   "cell_type": "markdown",
   "metadata": {},
   "source": [
    "리스트의 길이 출력,\n",
    "\n",
    "길이 인덱스를 차례삼아 값 스택\n"
   ]
  },
  {
   "cell_type": "code",
   "execution_count": null,
   "metadata": {},
   "outputs": [],
   "source": [
    "# codeit\n",
    "def minimum_total_fee(pages_to_print):\n",
    "    # 인풋으로 받은 리스트를 정렬시켜 준다\n",
    "    sorted_list = sorted(pages_to_print)\n",
    "\n",
    "    # 총 벌금을 담을 변수\n",
    "    total_fee = 0\n",
    "\n",
    "    # 정렬된 리스트에서 총 벌금 계산\n",
    "    for i in range(len(sorted_list)):\n",
    "        total_fee += sorted_list[i] * (len(sorted_list) - i) //WOW\n",
    "\n",
    "    return total_fee\n"
   ]
  },
  {
   "cell_type": "markdown",
   "metadata": {},
   "source": [
    "# 수강신청 분석"
   ]
  },
  {
   "cell_type": "code",
   "execution_count": null,
   "metadata": {},
   "outputs": [],
   "source": [
    "# 각 항목마다 길이를 구해볼까? 짧은 순서대로 sort시키는 거지.\n",
    "# 각 항목의 길이 구하는 거 자체가 불가네?\n",
    "# 각 수업이 언제 끝나는지에 따라 정렬 가능\n",
    "# 젤 빨리 끝나는거 하나 pick --> 겹치지 않으면서 그 담으로 빨리 끝나는 거 핔 -> 재귀로 반복\n",
    "# 어떻게 겹치지 않는 것을 골라내느냐, if문 써서 픽[1] 보다 큰것(pick[1] < rest[0]) 일 때, \n",
    "# 재귀함수 인수로 넣어서 재귀반복"
   ]
  },
  {
   "cell_type": "markdown",
   "metadata": {},
   "source": [
    "#### 먼저 시작하는 순으로 정렬\n",
    "sorted_list = sorted(course_list, key=lambda x: x[0])\n",
    "\n",
    "#### 먼저 끝나는 순으로 정렬\n",
    "sorted_list = sorted(course_list, key=lambda x: x[1])\n",
    "\n",
    "#### 짧은 순으로 정렬\n",
    "sorted_list = sorted(course_list, key=lambda x: x[1] - x[0])"
   ]
  },
  {
   "cell_type": "code",
   "execution_count": 70,
   "metadata": {},
   "outputs": [
    {
     "name": "stdout",
     "output_type": "stream",
     "text": [
      "[(2, 3), (4, 5), (1, 7), (6, 8), (6, 10), (9, 10)]\n",
      "[(1, 2), (3, 4), (0, 6), (5, 7), (8, 9), (5, 9)]\n",
      "[(1, 3), (2, 5), (2, 5), (4, 7), (1, 8), (5, 9), (8, 10), (9, 11), (13, 16)]\n"
     ]
    }
   ],
   "source": [
    "# 이게 안되는 이유는 재귀를 하면서 new_list가 다 초기화 되기 때문이지. \n",
    "# 선별한 요소들을 정리할 수 있는 방법이 뭐 있을까?\n",
    "# 애초에 재귀로 접근하면 안됐네. 근데 반복은 왤케 오류가 많어?\n",
    "def course_selection(course_list):\n",
    "    new_list = []\n",
    "    \n",
    "    sort_list = sorted(course_list, key = lambda x: x[1])\n",
    "    return sort_list\n",
    "    \n",
    "\n",
    "print(course_selection([(6, 10), (2, 3), (4, 5), (1, 7), (6, 8), (9, 10)]))\n",
    "print(course_selection([(1, 2), (3, 4), (0, 6), (5, 7), (8, 9), (5, 9)]))\n",
    "print(course_selection([(4, 7), (2, 5), (1, 3), (8, 10), (5, 9), (2, 5), (13, 16), (9, 11), (1, 8)]))\n",
    "\n"
   ]
  },
  {
   "cell_type": "code",
   "execution_count": 85,
   "metadata": {},
   "outputs": [
    {
     "name": "stdout",
     "output_type": "stream",
     "text": [
      "0\n",
      "(2, 3)\n",
      "2\n",
      "(1, 7)\n",
      "4\n",
      "(6, 10)\n",
      "[(2, 3), (4, 5), (6, 8), (9, 10)]\n",
      "0\n",
      "(1, 2)\n",
      "2\n",
      "(0, 6)\n",
      "3\n",
      "(5, 7)\n",
      "[(1, 2), (3, 4), (5, 7), (8, 9)]\n",
      "7\n",
      "(9, 11)\n",
      "[(1, 3), (13, 16)]\n"
     ]
    }
   ],
   "source": [
    "def course_selection(course_list):\n",
    "    new_list = []\n",
    "    \n",
    "    sort_list = sorted(course_list, key = lambda x: x[1])\n",
    "    new_list.append(sort_list[0])\n",
    "    \n",
    "    temp = sort_list[0][1]\n",
    "    for i in range(len(sort_list) - 1): # i = 0,1,2,3,4\n",
    "\n",
    "        if temp < sort_list[i+1][0]:\n",
    "            print(i)\n",
    "            print(sort_list[i])\n",
    "            new_list.append(sort_list[i+1])\n",
    "            temp = sort_list[i+1][1]\n",
    "        else: \n",
    "            temp = sort_list[i][1]\n",
    "            # if에 해당되지 않는 원소들이 스킵되면서, new_list에 들어가야할 타이밍을 잃었네\n",
    "            # 이걸 어케 해결하지? temp?\n",
    "\n",
    "    return new_list\n",
    "    \n",
    "\n",
    "print(course_selection([(6, 10), (2, 3), (4, 5), (1, 7), (6, 8), (9, 10)]))\n",
    "print(course_selection([(1, 2), (3, 4), (0, 6), (5, 7), (8, 9), (5, 9)]))\n",
    "print(course_selection([(4, 7), (2, 5), (1, 3), (8, 10), (5, 9), (2, 5), (13, 16), (9, 11), (1, 8)]))\n"
   ]
  },
  {
   "cell_type": "code",
   "execution_count": null,
   "metadata": {},
   "outputs": [],
   "source": []
  }
 ],
 "metadata": {
  "kernelspec": {
   "display_name": "Python 3",
   "language": "python",
   "name": "python3"
  },
  "language_info": {
   "codemirror_mode": {
    "name": "ipython",
    "version": 3
   },
   "file_extension": ".py",
   "mimetype": "text/x-python",
   "name": "python",
   "nbconvert_exporter": "python",
   "pygments_lexer": "ipython3",
   "version": "3.7.3"
  }
 },
 "nbformat": 4,
 "nbformat_minor": 2
}
