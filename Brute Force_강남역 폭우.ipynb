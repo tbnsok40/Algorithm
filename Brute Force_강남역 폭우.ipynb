{
 "cells": [
  {
   "cell_type": "code",
   "execution_count": 10,
   "metadata": {},
   "outputs": [
    {
     "name": "stdout",
     "output_type": "stream",
     "text": [
      "1\n",
      "10\n",
      "6\n"
     ]
    }
   ],
   "source": [
    "def trapping_rain(buildings):\n",
    "    rains = 0\n",
    "    \n",
    "    for i in range(1,len(buildings)-1):\n",
    "        lefttop = max(buildings[:i])\n",
    "        righttop = max(buildings[i:])\n",
    "        current = buildings[i]\n",
    "        if (lefttop > current):\n",
    "            if lefttop  <= righttop:\n",
    "                b = lefttop - current\n",
    "                rains += b\n",
    "            \n",
    "            elif righttop <= lefttop:\n",
    "                b = righttop - current\n",
    "                rains += b\n",
    "        else:\n",
    "            continue\n",
    "            \n",
    "            \n",
    "            \n",
    "            \n",
    "    return rains\n",
    "    \n",
    "print(trapping_rain([0, 0, 0, 0, 1, 0, 1,0]))    \n",
    "print(trapping_rain([3, 0, 0, 2, 0, 4]))\n",
    "print(trapping_rain([0, 1, 0, 2, 1, 0, 1, 3, 2, 1, 2, 1]))"
   ]
  },
  {
   "cell_type": "code",
   "execution_count": null,
   "metadata": {},
   "outputs": [],
   "source": []
  }
 ],
 "metadata": {
  "kernelspec": {
   "display_name": "Python 3",
   "language": "python",
   "name": "python3"
  },
  "language_info": {
   "codemirror_mode": {
    "name": "ipython",
    "version": 3
   },
   "file_extension": ".py",
   "mimetype": "text/x-python",
   "name": "python",
   "nbconvert_exporter": "python",
   "pygments_lexer": "ipython3",
   "version": "3.7.3"
  }
 },
 "nbformat": 4,
 "nbformat_minor": 2
}
