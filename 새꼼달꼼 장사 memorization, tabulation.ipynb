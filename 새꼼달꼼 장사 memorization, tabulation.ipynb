{
 "cells": [
  {
   "cell_type": "markdown",
   "metadata": {},
   "source": [
    "## memorization"
   ]
  },
  {
   "cell_type": "code",
   "execution_count": 1,
   "metadata": {},
   "outputs": [
    {
     "name": "stdout",
     "output_type": "stream",
     "text": [
      "2000\n",
      "2400\n",
      "1800\n"
     ]
    }
   ],
   "source": [
    "def max_profit(price_list, count):\n",
    "    profit_table = [0]\n",
    "\n",
    "    for i in range(1, count + 1):\n",
    "        if i < len(price_list):\n",
    "            profit = price_list[i]\n",
    "        else:\n",
    "            profit = 0\n",
    "        for k in range(1, i//2 + 1):\n",
    "            profit = max(profit, profit_table[k] + profit_table[i-k])\n",
    "        profit_table.append(profit)\n",
    "            \n",
    "    return profit_table[count]\n",
    "\n",
    "# 테스트\n",
    "print(max_profit([0, 200, 600, 900, 1200, 2000], 5))\n",
    "print(max_profit([0, 300, 600, 700, 1100, 1400], 8))\n",
    "print(max_profit([0, 100, 200, 400, 600, 900, 1200, 1300, 1500, 1800], 9))"
   ]
  },
  {
   "cell_type": "markdown",
   "metadata": {},
   "source": [
    "- j의 for문 바로 아랫줄에서 궁금증이 생겼습니다.\n",
    "\n",
    "1. i가 1이면서 j 역시 1일 때, 즉 처음 각각의 for문을 돌릴 때는 profit_table 리스트에 profit_table=[0]만 정의된 상태라고 생각합니다.\n",
    "\n",
    "2. 그런데 j가 1일 때, max함수 내부에 profit_table[1]이 할당된다는것이 가능한것인가요,,? profit_table = [0]인 상태이니 리스트 범위를 초과했다는 오류가 떠야 할 것 같은데 그러지 않아, 제가 어떤 부분을 잘못 이해하고 있는 것인지 궁금합니다"
   ]
  },
  {
   "cell_type": "markdown",
   "metadata": {},
   "source": [
    "## tabulation"
   ]
  },
  {
   "cell_type": "code",
   "execution_count": null,
   "metadata": {},
   "outputs": [],
   "source": [
    "def max_profit_memo(price_list, count, cache):\n",
    "    # Base Case: 0개 혹은 1개면 부분 문제로 나눌 필요가 없기 때문에 가격을 바로 리턴한다\n",
    "    if count < 2:\n",
    "        cache[count] = price_list[count]\n",
    "        return price_list[count]\n",
    "\n",
    "    # 이미 계산한 값이면 cache에 저장된 값을 리턴한다\n",
    "    if count in cache:\n",
    "        return cache[count]\n",
    "\n",
    "    # profit은 count개를 팔아서 가능한 최대 수익을 저장하는 변수\n",
    "    # 팔려고 하는 총개수에 대한 가격이 price_list에 없으면 일단 0으로 설정\n",
    "    # 팔려고 하는 총개수에 대한 가격이 price_list에 있으면 일단 그 가격으로 설정\n",
    "    if count < len(price_list):\n",
    "        profit = price_list[count]\n",
    "    else:\n",
    "        profit = 0\n",
    "\n",
    "    # count개를 팔 수 있는 조합들을 비교해서, 가능한 최대 수익을 profit에 저장\n",
    "    for i in range(1, count // 2 + 1):\n",
    "        profit = max(profit, max_profit_memo(price_list, i, cache) \n",
    "                 + max_profit_memo(price_list, count - i, cache))\n",
    "\n",
    "    # 계산된 최대 수익을 cache에 저장\n",
    "    cache[count] = profit\n",
    "\n",
    "    return profit\n",
    "\n",
    "\n",
    "def max_profit(price_list, count):\n",
    "    max_profit_cache = {}\n",
    "    \n",
    "    return max_profit_memo(price_list, count, max_profit_cache)\n",
    "\n",
    "\n",
    "# 테스트\n",
    "print(max_profit([0, 100, 400, 800, 900, 1000], 5))\n",
    "print(max_profit([0, 100, 400, 800, 900, 1000], 10)) // 3+3+3+1\n",
    "print(max_profit([0, 100, 400, 800, 900, 1000, 1400, 1600, 2100, 2200], 9))"
   ]
  }
 ],
 "metadata": {
  "kernelspec": {
   "display_name": "Python 3",
   "language": "python",
   "name": "python3"
  },
  "language_info": {
   "codemirror_mode": {
    "name": "ipython",
    "version": 3
   },
   "file_extension": ".py",
   "mimetype": "text/x-python",
   "name": "python",
   "nbconvert_exporter": "python",
   "pygments_lexer": "ipython3",
   "version": "3.7.3"
  }
 },
 "nbformat": 4,
 "nbformat_minor": 2
}
