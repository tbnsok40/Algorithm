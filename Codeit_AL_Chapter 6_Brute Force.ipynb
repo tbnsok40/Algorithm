{
 "cells": [
  {
   "cell_type": "markdown",
   "metadata": {},
   "source": [
    "- Brute Force: 가능한 모든 시도를 다해보는 것. "
   ]
  },
  {
   "cell_type": "markdown",
   "metadata": {},
   "source": [
    "# 1. 카드뭉치 최대 조합"
   ]
  },
  {
   "cell_type": "code",
   "execution_count": 12,
   "metadata": {},
   "outputs": [
    {
     "name": "stdout",
     "output_type": "stream",
     "text": [
      "24\n",
      "32\n",
      "28\n"
     ]
    }
   ],
   "source": [
    "def max_product(left_cards, right_cards):\n",
    "    lists = []\n",
    "    for i in left_cards:\n",
    "        for j in right_cards:\n",
    "            lists.append(i*j)\n",
    "            \n",
    "    return max(lists)\n",
    "\n",
    "# 테스트\n",
    "print(max_product([1, 6, 5], [4, 2, 3]))\n",
    "print(max_product([1, -9, 3, 4], [2, 8, 3, 1]))\n",
    "print(max_product([-1, -7, 3], [-4, 3, 6]))"
   ]
  },
  {
   "cell_type": "code",
   "execution_count": 13,
   "metadata": {},
   "outputs": [],
   "source": [
    "# 코드잇 답\n",
    "\n",
    "def max_product(left_cards, right_cards):\n",
    "    # 현재까지 최댓값을 담기 위한 변수\n",
    "    # 처음에는 임시로 -1로 설정\n",
    "    max_product = -1\n",
    "    \n",
    "    # 가능한 모든 조합을 보기 위한 중첩 반복문\n",
    "    for left in left_cards:\n",
    "        for right in right_cards:\n",
    "            # 현재까지의 최댓값 값과 지금 보고 있는 곱을 비교해서 더 큰 값을 최댓값 변수에 담아준다\n",
    "            max_product = max(max_product, left * right)\n",
    "\n",
    "    # 찾은 최댓값을 리턴한다            \n",
    "    return max_product\n",
    "    "
   ]
  },
  {
   "cell_type": "markdown",
   "metadata": {},
   "source": [
    "### Brute Force\n",
    "- 장점: 직관적/명확. 모든 경우 다루기에 답을 확실하게 찾을 수 있다.\n",
    "- 단점: 인풋이 너무크면 개망"
   ]
  },
  {
   "cell_type": "markdown",
   "metadata": {},
   "source": [
    "# 2. 가까운 매장 찾기"
   ]
  },
  {
   "cell_type": "code",
   "execution_count": 71,
   "metadata": {},
   "outputs": [
    {
     "name": "stdout",
     "output_type": "stream",
     "text": [
      "[(2, 3), (3, 4)]\n"
     ]
    }
   ],
   "source": [
    "# 제곱근 사용을 위한 sqrt 함수\n",
    "from math import sqrt\n",
    "\n",
    "# 두 매장의 직선 거리를 계산해 주는 함수\n",
    "def distance(store1, store2):\n",
    "    return sqrt((store1[0] - store2[0]) ** 2 + (store1[1] - store2[1]) ** 2)\n",
    "\n",
    "# 가장 가까운 두 매장을 찾아주는 함수\n",
    "def closest_pair(coordinates):\n",
    "    \n",
    "    min_dis = distance(coordinates[0],coordinates[1])\n",
    "    \n",
    "    for i in range(len(coordinates) - 1):\n",
    "        \n",
    "        j = i + 1\n",
    "        \n",
    "        while j <= 5:\n",
    "\n",
    "            if min_dis > distance(coordinates[i], coordinates[j]):\n",
    "                min_dis = distance(coordinates[i], coordinates[j])\n",
    "                x = i\n",
    "                y = j\n",
    "                \n",
    "                \n",
    "            j = j + 1\n",
    "            \n",
    "    return  [coordinates[x],coordinates[y]]\n",
    "        \n",
    "    \n",
    "    \n",
    "    \n",
    "    \n",
    "\n",
    "# 테스트\n",
    "test_coordinates = [(2, 3), (12, 30), (40, 50), (5, 1), (12, 10), (3, 4)]\n",
    "print(closest_pair(test_coordinates))"
   ]
  },
  {
   "cell_type": "code",
   "execution_count": 65,
   "metadata": {},
   "outputs": [
    {
     "name": "stdout",
     "output_type": "stream",
     "text": [
      "(2, 3) (3, 4)\n"
     ]
    }
   ],
   "source": [
    "test_coordinates = [(2, 3), (12, 30), (40, 50), (5, 1), (12, 10), (3, 4)]\n",
    "\n",
    "print(test_coordinates[0],test_coordinates[5])\n"
   ]
  },
  {
   "cell_type": "code",
   "execution_count": 45,
   "metadata": {},
   "outputs": [
    {
     "name": "stdout",
     "output_type": "stream",
     "text": [
      "0\n",
      "1\n",
      "2\n",
      "3\n",
      "4\n"
     ]
    }
   ],
   "source": [
    "for i in range(5):\n",
    "    print(i)"
   ]
  },
  {
   "cell_type": "markdown",
   "metadata": {},
   "source": [
    "# 3. 강남역 폭우"
   ]
  },
  {
   "cell_type": "code",
   "execution_count": null,
   "metadata": {},
   "outputs": [],
   "source": [
    "# 0번과 len(buildings)-1번 인덱스는 물 X\n",
    "# 1번 부터 : len(buildings)-2번까지만 물 계산 가능 >>> [1:len(buildings)-1]\n",
    "# \n",
    "\n",
    "\n",
    "def trapping_rain(buildings):\n",
    "    \n",
    "    for i in range(len(buildings)):\n",
    "        buildings[i]\n",
    "    \n",
    "        \n",
    "\n",
    "# 테스트\n",
    "print(trapping_rain([3, 0, 0, 2, 0, 4]))\n",
    "print(trapping_rain([0, 1, 0, 2, 1, 0, 1, 3, 2, 1, 2, 1]))"
   ]
  },
  {
   "cell_type": "code",
   "execution_count": 76,
   "metadata": {},
   "outputs": [
    {
     "name": "stdout",
     "output_type": "stream",
     "text": [
      "7\n"
     ]
    }
   ],
   "source": [
    "buildings = [0,6,1,2,5]\n",
    "\n",
    "def trapping_rain(buildings):\n",
    "    rain_sum = 0\n",
    "    \n",
    "    for i in range(1,len(buildings)-1):\n",
    "        leftop = max(buildings[:i])\n",
    "        rightop = max(buildings[i:])\n",
    "        current = buildings[i]\n",
    "\n",
    "        \n",
    "        if leftop >= rightop:\n",
    "            \n",
    "            a = (rightop-current)\n",
    "            if a < 0:\n",
    "                continue\n",
    "            else:\n",
    "                rain_sum += (a)\n",
    "                \n",
    "        else:\n",
    "            \n",
    "            b = (leftop-current)\n",
    "            if b < 0:\n",
    "                continue\n",
    "            else:\n",
    "                rain_sum += (b)\n",
    "        \n",
    "        continue\n",
    "        \n",
    "    print(rain_sum)\n",
    "\n",
    "(trapping_rain(buildings))\n",
    "\n",
    "# for 문이 한번만 돌고 끝난다. why?\n"
   ]
  },
  {
   "cell_type": "code",
   "execution_count": null,
   "metadata": {},
   "outputs": [],
   "source": []
  },
  {
   "cell_type": "code",
   "execution_count": null,
   "metadata": {},
   "outputs": [],
   "source": []
  },
  {
   "cell_type": "code",
   "execution_count": null,
   "metadata": {},
   "outputs": [],
   "source": []
  },
  {
   "cell_type": "code",
   "execution_count": null,
   "metadata": {},
   "outputs": [],
   "source": []
  },
  {
   "cell_type": "code",
   "execution_count": null,
   "metadata": {},
   "outputs": [],
   "source": []
  },
  {
   "cell_type": "code",
   "execution_count": null,
   "metadata": {},
   "outputs": [],
   "source": []
  },
  {
   "cell_type": "code",
   "execution_count": null,
   "metadata": {},
   "outputs": [],
   "source": []
  },
  {
   "cell_type": "code",
   "execution_count": null,
   "metadata": {},
   "outputs": [],
   "source": []
  }
 ],
 "metadata": {
  "kernelspec": {
   "display_name": "Python 3",
   "language": "python",
   "name": "python3"
  },
  "language_info": {
   "codemirror_mode": {
    "name": "ipython",
    "version": 3
   },
   "file_extension": ".py",
   "mimetype": "text/x-python",
   "name": "python",
   "nbconvert_exporter": "python",
   "pygments_lexer": "ipython3",
   "version": "3.7.3"
  }
 },
 "nbformat": 4,
 "nbformat_minor": 2
}
