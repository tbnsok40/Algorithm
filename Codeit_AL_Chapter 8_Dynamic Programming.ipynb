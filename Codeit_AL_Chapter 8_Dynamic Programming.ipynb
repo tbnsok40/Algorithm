{
 "cells": [
  {
   "cell_type": "markdown",
   "metadata": {},
   "source": [
    "# fibonacci memorization으로 구현"
   ]
  },
  {
   "cell_type": "markdown",
   "metadata": {},
   "source": [
    "### 아래) 내가 짠 코드, 머가 문제?? 잘짰는디 ㅠ"
   ]
  },
  {
   "cell_type": "code",
   "execution_count": null,
   "metadata": {},
   "outputs": [],
   "source": [
    "def fib_memo(n, cache):\n",
    "    # 코드를 작성하세요.\n",
    "    if n <= 2:\n",
    "        return cache[n]\n",
    "    else:\n",
    "        for i in range(3,n+1):\n",
    "            cache[i] = cache[i-1] + cache[i-2]\n",
    "            cache = {i:cache[i]}\n",
    "    return cache[n]\n",
    "#     cache = {n:fib(n)}\n",
    "#     cache[n] = fib(n)\n",
    "\n",
    "def fib(n):\n",
    "    # n번째 피보나치 수를 담는 사전\n",
    "    fib_cache = {}\n",
    "    fib_cache = {1:1, 2:1}\n",
    "    \n",
    "    return fib_memo(n, fib_cache)\n",
    "\n",
    "# 테스트\n",
    "print(fib(10))\n",
    "print(fib(50))\n",
    "print(fib(100))"
   ]
  },
  {
   "cell_type": "markdown",
   "metadata": {},
   "source": [
    "# 리스트로 푼 memorization"
   ]
  },
  {
   "cell_type": "code",
   "execution_count": 6,
   "metadata": {},
   "outputs": [
    {
     "name": "stdout",
     "output_type": "stream",
     "text": [
      "55\n",
      "12586269025\n",
      "354224848179261915075\n"
     ]
    }
   ],
   "source": [
    "def fib_memo(n, cache):\n",
    "    # 코드를 작성하세요.\n",
    "    if n <= 2:\n",
    "        return 1\n",
    "    elif cache[n] == -1:\n",
    "        cache[n] = fib_memo(n-2,cache) + fib_memo(n-1,cache)\n",
    "    return cache[n]\n",
    "\n",
    "def fib(n):\n",
    "    # n번째 피보나치 수를 담는 사전\n",
    "    fib_cache = [-1]*(n+1)\n",
    "    \n",
    "    return fib_memo(n, fib_cache)\n",
    "\n",
    "\n",
    "# 테스트\n",
    "print(fib(10))\n",
    "print(fib(50))\n",
    "print(fib(100))"
   ]
  },
  {
   "cell_type": "markdown",
   "metadata": {},
   "source": [
    "# 딕셔너리로 품 (왤케 쉽게 품;)"
   ]
  },
  {
   "cell_type": "code",
   "execution_count": 7,
   "metadata": {},
   "outputs": [
    {
     "name": "stdout",
     "output_type": "stream",
     "text": [
      "55\n",
      "12586269025\n",
      "354224848179261915075\n"
     ]
    }
   ],
   "source": [
    "def fib_memo(n, cache):\n",
    "    # base case\n",
    "    if n < 3:\n",
    "        return 1\n",
    "        \n",
    "    # 이미 n번째 피보나치를 계산했으면:\n",
    "    # 저장된 값을 바로 리턴한다\n",
    "    if n in cache:\n",
    "        return cache[n]\n",
    "    \n",
    "    # 아직 n번째 피보나치 수를 계산하지 않았으면:\n",
    "    # 계산을 한 후 cache에 저장\n",
    "    cache[n] = fib_memo(n - 1, cache) + fib_memo(n - 2, cache)\n",
    "\n",
    "    # 계산한 값을 리턴한다\n",
    "    return cache[n]\n",
    "\n",
    "def fib(n):\n",
    "    # n번째 피보나치 수를 담는 사전\n",
    "    fib_cache = {}\n",
    "\n",
    "    return fib_memo(n, fib_cache)\n",
    "\n",
    "# 테스트\n",
    "print(fib(10))\n",
    "print(fib(50))\n",
    "print(fib(100))"
   ]
  },
  {
   "cell_type": "markdown",
   "metadata": {},
   "source": [
    "- memorization은 중복되는 부분을 제거해서 문제 해결: top-down approach\n",
    "\n",
    "- tabulation은 table 방식으로 정리한다는 뜻, 반복문을 사용하여 list를 채워나감 : bottom-up approach\n"
   ]
  },
  {
   "cell_type": "markdown",
   "metadata": {},
   "source": [
    "# fibonacci Tabulation으로 구현"
   ]
  },
  {
   "cell_type": "code",
   "execution_count": 23,
   "metadata": {},
   "outputs": [
    {
     "name": "stdout",
     "output_type": "stream",
     "text": [
      "55\n",
      "225851433717\n",
      "1725375039079340637797070384\n"
     ]
    }
   ],
   "source": [
    "# 내가 처음 푼 것\n",
    "def fib_tab(n):\n",
    "    tab = [0,1,1]\n",
    "    if n <= 2:\n",
    "        return tab[n]\n",
    "    else: \n",
    "#       n= 4일 때,\n",
    "#         tab[3]이 필요하기에, tab[2}+tab[1]을 더한다.\n",
    "#       n = 5일 때\n",
    "#          tab[4]이 필요하기에, tab[3]+tab[2]\n",
    "\n",
    "        for i in range(3, n+1):\n",
    "            new = tab[i-1] + tab[i-2]\n",
    "            tab.append(new)\n",
    "#     new = fib_tab(n-1) + fib_tab(n-2)\n",
    "    \n",
    "    return tab[n]\n",
    "\n",
    "# 테스트\n",
    "print(fib_tab(10))\n",
    "print(fib_tab(56))\n",
    "print(fib_tab(132))"
   ]
  },
  {
   "cell_type": "markdown",
   "metadata": {},
   "source": [
    "# 코드잇 답"
   ]
  },
  {
   "cell_type": "code",
   "execution_count": 24,
   "metadata": {},
   "outputs": [
    {
     "name": "stdout",
     "output_type": "stream",
     "text": [
      "55\n",
      "225851433717\n",
      "1725375039079340637797070384\n"
     ]
    }
   ],
   "source": [
    "def fib_tab(n):\n",
    "    tab = [0,1,1]\n",
    "    if n <= 2:\n",
    "        return tab[n]\n",
    "    else: \n",
    "#       n= 4일 때,\n",
    "#         tab[3]이 필요하기에, tab[2}+tab[1]을 더한다.\n",
    "#       n = 5일 때\n",
    "#          tab[4]이 필요하기에, tab[3]+tab[2]\n",
    "\n",
    "        for i in range(3, n+1):\n",
    "            \n",
    "            tab.append(tab[i-1] + tab[i-2])\n",
    "#     new = fib_tab(n-1) + fib_tab(n-2)\n",
    "    \n",
    "    return tab[n]\n",
    "\n",
    "# 테스트\n",
    "print(fib_tab(10))\n",
    "print(fib_tab(56))\n",
    "print(fib_tab(132))"
   ]
  },
  {
   "cell_type": "code",
   "execution_count": null,
   "metadata": {},
   "outputs": [],
   "source": []
  }
 ],
 "metadata": {
  "kernelspec": {
   "display_name": "Python 3",
   "language": "python",
   "name": "python3"
  },
  "language_info": {
   "codemirror_mode": {
    "name": "ipython",
    "version": 3
   },
   "file_extension": ".py",
   "mimetype": "text/x-python",
   "name": "python",
   "nbconvert_exporter": "python",
   "pygments_lexer": "ipython3",
   "version": "3.7.3"
  }
 },
 "nbformat": 4,
 "nbformat_minor": 2
}
