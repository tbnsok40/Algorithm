{
 "cells": [
  {
   "cell_type": "markdown",
   "metadata": {},
   "source": [
    "# fibonacci memorization으로 구현"
   ]
  },
  {
   "cell_type": "markdown",
   "metadata": {},
   "source": [
    "### 아래) 내가 짠 코드, 머가 문제?? 잘짰는디 ㅠ"
   ]
  },
  {
   "cell_type": "code",
   "execution_count": null,
   "metadata": {},
   "outputs": [],
   "source": [
    "def fib_memo(n, cache):\n",
    "    # 코드를 작성하세요.\n",
    "    if n <= 2:\n",
    "        return cache[n]\n",
    "    else:\n",
    "        for i in range(3,n+1):\n",
    "            cache[i] = cache[i-1] + cache[i-2]\n",
    "            cache = {i:cache[i]}\n",
    "    return cache[n]\n",
    "#     cache = {n:fib(n)}\n",
    "#     cache[n] = fib(n)\n",
    "\n",
    "def fib(n):\n",
    "    # n번째 피보나치 수를 담는 사전\n",
    "    fib_cache = {}\n",
    "    fib_cache = {1:1, 2:1}\n",
    "    \n",
    "    return fib_memo(n, fib_cache)\n",
    "\n",
    "# 테스트\n",
    "print(fib(10))\n",
    "print(fib(50))\n",
    "print(fib(100))"
   ]
  },
  {
   "cell_type": "markdown",
   "metadata": {},
   "source": [
    "# 리스트로 푼 memorization"
   ]
  },
  {
   "cell_type": "code",
   "execution_count": 6,
   "metadata": {},
   "outputs": [
    {
     "name": "stdout",
     "output_type": "stream",
     "text": [
      "55\n",
      "12586269025\n",
      "354224848179261915075\n"
     ]
    }
   ],
   "source": [
    "def fib_memo(n, cache):\n",
    "    # 코드를 작성하세요.\n",
    "    if n <= 2:\n",
    "        return 1\n",
    "    elif cache[n] == -1:\n",
    "        cache[n] = fib_memo(n-2,cache) + fib_memo(n-1,cache)\n",
    "    return cache[n]\n",
    "\n",
    "def fib(n):\n",
    "    # n번째 피보나치 수를 담는 사전\n",
    "    fib_cache = [-1]*(n+1)\n",
    "    \n",
    "    return fib_memo(n, fib_cache)\n",
    "\n",
    "\n",
    "# 테스트\n",
    "print(fib(10))\n",
    "print(fib(50))\n",
    "print(fib(100))"
   ]
  },
  {
   "cell_type": "markdown",
   "metadata": {},
   "source": [
    "# 딕셔너리로 품 (왤케 쉽게 품;)"
   ]
  },
  {
   "cell_type": "code",
   "execution_count": 7,
   "metadata": {},
   "outputs": [
    {
     "name": "stdout",
     "output_type": "stream",
     "text": [
      "55\n",
      "12586269025\n",
      "354224848179261915075\n"
     ]
    }
   ],
   "source": [
    "def fib_memo(n, cache):\n",
    "    # base case\n",
    "    if n < 3:\n",
    "        return 1\n",
    "        \n",
    "    # 이미 n번째 피보나치를 계산했으면:\n",
    "    # 저장된 값을 바로 리턴한다\n",
    "    if n in cache:\n",
    "        return cache[n]\n",
    "    \n",
    "    # 아직 n번째 피보나치 수를 계산하지 않았으면:\n",
    "    # 계산을 한 후 cache에 저장\n",
    "    cache[n] = fib_memo(n - 1, cache) + fib_memo(n - 2, cache)\n",
    "\n",
    "    # 계산한 값을 리턴한다\n",
    "    return cache[n]\n",
    "\n",
    "def fib(n):\n",
    "    # n번째 피보나치 수를 담는 사전\n",
    "    fib_cache = {}\n",
    "\n",
    "    return fib_memo(n, fib_cache)\n",
    "\n",
    "# 테스트\n",
    "print(fib(10))\n",
    "print(fib(50))\n",
    "print(fib(100))"
   ]
  },
  {
   "cell_type": "markdown",
   "metadata": {},
   "source": [
    "- memorization은 중복되는 부분을 제거해서 문제 해결: top-down approach\n",
    "\n",
    "- tabulation은 table 방식으로 정리한다는 뜻, 반복문을 사용하여 list를 채워나감 : bottom-up approach\n"
   ]
  },
  {
   "cell_type": "markdown",
   "metadata": {},
   "source": [
    "# fibonacci Tabulation으로 구현"
   ]
  },
  {
   "cell_type": "code",
   "execution_count": 23,
   "metadata": {},
   "outputs": [
    {
     "name": "stdout",
     "output_type": "stream",
     "text": [
      "55\n",
      "225851433717\n",
      "1725375039079340637797070384\n"
     ]
    }
   ],
   "source": [
    "# 내가 처음 푼 것\n",
    "def fib_tab(n):\n",
    "    tab = [0,1,1]\n",
    "    if n <= 2:\n",
    "        return tab[n]\n",
    "    else: \n",
    "#       n= 4일 때,\n",
    "#         tab[3]이 필요하기에, tab[2}+tab[1]을 더한다.\n",
    "#       n = 5일 때\n",
    "#          tab[4]이 필요하기에, tab[3]+tab[2]\n",
    "\n",
    "        for i in range(3, n+1):\n",
    "            new = tab[i-1] + tab[i-2]\n",
    "            tab.append(new)\n",
    "#     new = fib_tab(n-1) + fib_tab(n-2)\n",
    "    \n",
    "    return tab[n]\n",
    "\n",
    "# 테스트\n",
    "print(fib_tab(10))\n",
    "print(fib_tab(56))\n",
    "print(fib_tab(132))"
   ]
  },
  {
   "cell_type": "markdown",
   "metadata": {},
   "source": [
    "# 코드잇 답"
   ]
  },
  {
   "cell_type": "code",
   "execution_count": 25,
   "metadata": {},
   "outputs": [
    {
     "name": "stdout",
     "output_type": "stream",
     "text": [
      "55\n",
      "225851433717\n",
      "1725375039079340637797070384\n"
     ]
    }
   ],
   "source": [
    "def fib_tab(n):\n",
    "    tab = [0,1,1]\n",
    "    if n <= 2:\n",
    "        return tab[n]\n",
    "    else: \n",
    "#       n= 4일 때,\n",
    "#         tab[3]이 필요하기에, tab[2}+tab[1]을 더한다.\n",
    "#       n = 5일 때\n",
    "#          tab[4]이 필요하기에, tab[3]+tab[2]\n",
    "\n",
    "        for i in range(3, n+1):\n",
    "            \n",
    "            tab.append(tab[i-1] + tab[i-2])\n",
    "#     new = fib_tab(n-1) + fib_tab(n-2)\n",
    "    \n",
    "    return tab[n]\n",
    "\n",
    "# 테스트\n",
    "print(fib_tab(10))\n",
    "print(fib_tab(56))\n",
    "print(fib_tab(132))\n",
    "\n"
   ]
  },
  {
   "cell_type": "markdown",
   "metadata": {},
   "source": [
    "- memorization: 재귀\n",
    "- tabulation: 반복문을 사용하여 중복된 부분을 해결\n",
    "\n",
    "- memorization을 사용하면 stack계속 쌓여 과부하 발생 위험\n",
    "- tabulation은 그럴 일은 없더\n",
    "\n",
    "- But tabulation은 밑에서 부터 계산을 해가기에 필요없는 부분을 계산해야하지만,\n",
    "- memorization은 위에서부터 내려가기에 필요없는 부분은 계산하지 않는다는 장점있다.\n",
    "\n"
   ]
  },
  {
   "cell_type": "markdown",
   "metadata": {},
   "source": [
    "- memorization 역시 테이블 구조로 데이터 저장하기에 불필요한 저장공간 소모\n",
    "\n",
    "- 이를 해결하기 위해서, current와 previous box를 활용하여, 불필요한 저장공간은 줄이고 필요한 부분만 지속적으로 업데이트 시켜 원하는 값 구한다.\n"
   ]
  },
  {
   "cell_type": "markdown",
   "metadata": {},
   "source": [
    "# 피보나치 수열 공간 최적화"
   ]
  },
  {
   "cell_type": "code",
   "execution_count": 50,
   "metadata": {},
   "outputs": [
    {
     "name": "stdout",
     "output_type": "stream",
     "text": [
      "8\n"
     ]
    }
   ],
   "source": [
    "def fib_optimized(n):\n",
    "    # 코드를 작성하세요.\n",
    "    prev = 0\n",
    "    cur = 1\n",
    "    \n",
    "    for i in range(1,n):\n",
    "        temp = cur\n",
    "        cur = cur + prev\n",
    "        prev = temp\n",
    "    return cur\n",
    "\n",
    "\n",
    "print(fib_optimized(16))\n",
    "print(fib_optimized(53))\n",
    "print(fib_optimized(213))\n",
    "\n",
    "\n",
    "\n",
    "# temp 변수의 활용... 이걸 빨리 생각해냈다면 진작 풀었을듯 \n",
    "# Dynamic programming 할 때 모든 데이터 저장할 필요 없다면 이와 같은 공간 최적화 활용"
   ]
  },
  {
   "cell_type": "code",
   "execution_count": null,
   "metadata": {},
   "outputs": [],
   "source": []
  },
  {
   "cell_type": "code",
   "execution_count": null,
   "metadata": {},
   "outputs": [],
   "source": []
  },
  {
   "cell_type": "code",
   "execution_count": null,
   "metadata": {},
   "outputs": [],
   "source": []
  },
  {
   "cell_type": "code",
   "execution_count": null,
   "metadata": {},
   "outputs": [],
   "source": []
  },
  {
   "cell_type": "code",
   "execution_count": null,
   "metadata": {},
   "outputs": [],
   "source": []
  },
  {
   "cell_type": "code",
   "execution_count": null,
   "metadata": {},
   "outputs": [],
   "source": []
  },
  {
   "cell_type": "code",
   "execution_count": null,
   "metadata": {},
   "outputs": [],
   "source": []
  }
 ],
 "metadata": {
  "kernelspec": {
   "display_name": "Python 3",
   "language": "python",
   "name": "python3"
  },
  "language_info": {
   "codemirror_mode": {
    "name": "ipython",
    "version": 3
   },
   "file_extension": ".py",
   "mimetype": "text/x-python",
   "name": "python",
   "nbconvert_exporter": "python",
   "pygments_lexer": "ipython3",
   "version": "3.7.3"
  }
 },
 "nbformat": 4,
 "nbformat_minor": 2
}
