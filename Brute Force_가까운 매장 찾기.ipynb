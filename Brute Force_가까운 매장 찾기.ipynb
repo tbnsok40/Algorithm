{
 "cells": [
  {
   "cell_type": "markdown",
   "metadata": {},
   "source": [
    "# test_cordinates에 주어진 좌표 간의 최소 거리를 구하라"
   ]
  },
  {
   "cell_type": "code",
   "execution_count": 14,
   "metadata": {},
   "outputs": [
    {
     "name": "stdout",
     "output_type": "stream",
     "text": [
      "((2, 3), (3, 4))\n"
     ]
    }
   ],
   "source": [
    "from math import sqrt\n",
    "\n",
    "def distance(cord1, cord2):\n",
    "    return sqrt((cord1[0]-cord2[0])**2 + (cord1[1]-cord2[1])**2)\n",
    "\n",
    "def closest_pair(test_coordinates):\n",
    "    min_dist = distance(test_coordinates[0], test_coordinates[1])\n",
    "    \n",
    "    for i in range(len(test_cordinates)-1):\n",
    "        j = i + 1\n",
    "        \n",
    "        while j <= 5:\n",
    "            \n",
    "            if min_dist > distance(test_cordinates[i], test_cordinates[j]):\n",
    "                min_dist = distance(test_cordinates[i], test_cordinates[j])\n",
    "                m = i\n",
    "                n = j\n",
    "            j += 1\n",
    "            \n",
    "    return test_cordinates[m], test_cordinates[n]\n",
    "\n",
    "# 테스트\n",
    "test_cordinates = [(2, 3), (12, 30), (40, 50), (5, 1), (12, 10), (3, 4)]\n",
    "print(closest_pair(test_coordinates))\n",
    "\n",
    "#15번 줄의 유무에 따라 왜 결과가 달라지는지."
   ]
  }
 ],
 "metadata": {
  "kernelspec": {
   "display_name": "Python 3",
   "language": "python",
   "name": "python3"
  },
  "language_info": {
   "codemirror_mode": {
    "name": "ipython",
    "version": 3
   },
   "file_extension": ".py",
   "mimetype": "text/x-python",
   "name": "python",
   "nbconvert_exporter": "python",
   "pygments_lexer": "ipython3",
   "version": "3.7.3"
  }
 },
 "nbformat": 4,
 "nbformat_minor": 2
}
