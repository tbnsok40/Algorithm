{
 "cells": [
  {
   "cell_type": "markdown",
   "metadata": {},
   "source": [
    "# fibonacci memorization으로 구현"
   ]
  },
  {
   "cell_type": "markdown",
   "metadata": {},
   "source": [
    "### 아래) 내가 짠 코드, 머가 문제?? 잘짰는디 ㅠ"
   ]
  },
  {
   "cell_type": "code",
   "execution_count": null,
   "metadata": {},
   "outputs": [],
   "source": [
    "def fib_memo(n, cache):\n",
    "    # 코드를 작성하세요.\n",
    "    if n <= 2:\n",
    "        return cache[n]\n",
    "    else:\n",
    "        for i in range(3,n+1):\n",
    "            cache[i] = cache[i-1] + cache[i-2]\n",
    "            cache = {i:cache[i]}\n",
    "    return cache[n]\n",
    "#     cache = {n:fib(n)}\n",
    "#     cache[n] = fib(n)\n",
    "\n",
    "def fib(n):\n",
    "    # n번째 피보나치 수를 담는 사전\n",
    "    fib_cache = {}\n",
    "    fib_cache = {1:1, 2:1}\n",
    "    \n",
    "    return fib_memo(n, fib_cache)\n",
    "\n",
    "# 테스트\n",
    "print(fib(10))\n",
    "print(fib(50))\n",
    "print(fib(100))"
   ]
  },
  {
   "cell_type": "markdown",
   "metadata": {},
   "source": [
    "# 리스트로 푼 memorization"
   ]
  },
  {
   "cell_type": "code",
   "execution_count": 6,
   "metadata": {},
   "outputs": [
    {
     "name": "stdout",
     "output_type": "stream",
     "text": [
      "55\n",
      "12586269025\n",
      "354224848179261915075\n"
     ]
    }
   ],
   "source": [
    "def fib_memo(n, cache):\n",
    "    # 코드를 작성하세요.\n",
    "    if n <= 2:\n",
    "        return 1\n",
    "    elif cache[n] == -1:\n",
    "        cache[n] = fib_memo(n-2,cache) + fib_memo(n-1,cache)\n",
    "    return cache[n]\n",
    "\n",
    "def fib(n):\n",
    "    # n번째 피보나치 수를 담는 사전\n",
    "    fib_cache = [-1]*(n+1)\n",
    "    \n",
    "    return fib_memo(n, fib_cache)\n",
    "\n",
    "\n",
    "# 테스트\n",
    "print(fib(10))\n",
    "print(fib(50))\n",
    "print(fib(100))"
   ]
  },
  {
   "cell_type": "markdown",
   "metadata": {},
   "source": [
    "# 딕셔너리로 품 (왤케 쉽게 품;)"
   ]
  },
  {
   "cell_type": "code",
   "execution_count": 7,
   "metadata": {},
   "outputs": [
    {
     "name": "stdout",
     "output_type": "stream",
     "text": [
      "55\n",
      "12586269025\n",
      "354224848179261915075\n"
     ]
    }
   ],
   "source": [
    "def fib_memo(n, cache):\n",
    "    # base case\n",
    "    if n < 3:\n",
    "        return 1\n",
    "        \n",
    "    # 이미 n번째 피보나치를 계산했으면:\n",
    "    # 저장된 값을 바로 리턴한다\n",
    "    if n in cache:\n",
    "        return cache[n]\n",
    "    \n",
    "    # 아직 n번째 피보나치 수를 계산하지 않았으면:\n",
    "    # 계산을 한 후 cache에 저장\n",
    "    cache[n] = fib_memo(n - 1, cache) + fib_memo(n - 2, cache)\n",
    "\n",
    "    # 계산한 값을 리턴한다\n",
    "    return cache[n]\n",
    "\n",
    "def fib(n):\n",
    "    # n번째 피보나치 수를 담는 사전\n",
    "    fib_cache = {}\n",
    "\n",
    "    return fib_memo(n, fib_cache)\n",
    "\n",
    "# 테스트\n",
    "print(fib(10))\n",
    "print(fib(50))\n",
    "print(fib(100))"
   ]
  },
  {
   "cell_type": "code",
   "execution_count": null,
   "metadata": {},
   "outputs": [],
   "source": []
  }
 ],
 "metadata": {
  "kernelspec": {
   "display_name": "Python 3",
   "language": "python",
   "name": "python3"
  }
 },
 "nbformat": 4,
 "nbformat_minor": 2
}
