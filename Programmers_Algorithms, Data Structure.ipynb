{
 "cells": [
  {
   "cell_type": "markdown",
   "metadata": {},
   "source": [
    "## 1강 실습: 리스트 원소 두 개의 합 구하기\n",
    "### 입력으로 주어지는 리스트 x 의 첫 원소와 마지막 원소의 합을 리턴하는 함수 solution() 을 완성하세요."
   ]
  },
  {
   "cell_type": "code",
   "execution_count": 17,
   "metadata": {},
   "outputs": [],
   "source": [
    "def solution(x):\n",
    "    sum = x[0] + x[-1]\n",
    "    return sum"
   ]
  },
  {
   "cell_type": "markdown",
   "metadata": {},
   "source": [
    "## 2강 실습: (1) 리스트에 새로운 요소 삽입하기\n",
    "### 리스트 L 과 정수 x 가 인자로 주어질 때, 리스트 내의 올바른 위치에 x 를 삽입하여 그 결과 리스트를 반환하는 함수 solution 을 완성하세요.\n",
    "\n",
    "인자로 주어지는 리스트 L 은 정수 원소들로 이루어져 있으며 크기에 따라 (오름차순으로) 정렬되어 있다고 가정합니다.\n",
    "\n",
    "예를 들어, L = [20, 37, 58, 72, 91] 이고 x = 65 인 경우, 올바른 리턴 값은 [20, 37, 58, 65, 72, 91] 입니다.\n",
    "\n",
    "힌트: 순환문을 이용하여 올바른 위치를 결정하고 insert() 메서드를 이용하여 삽입하는 것이 한 가지 방법입니다.\n",
    "\n",
    "주의: 리스트 내에 존재하는 모든 원소들보다 작거나 모든 원소들보다 큰 정수가 주어지는 경우에 대해서도 올바르게 처리해야 합니다."
   ]
  },
  {
   "cell_type": "code",
   "execution_count": 16,
   "metadata": {},
   "outputs": [
    {
     "data": {
      "text/plain": [
       "[20, 37, 55, 55, 55, 58, 72, 91]"
      ]
     },
     "execution_count": 16,
     "metadata": {},
     "output_type": "execute_result"
    }
   ],
   "source": [
    "def solution(L, x):\n",
    "    for i in range(len(L)):\n",
    "        if x < L[i]:\n",
    "            L.insert(i,x)\n",
    "            continue\n",
    "        else:\n",
    "            continue\n",
    "    return L\n",
    "\n",
    "\n",
    "L = [20, 37, 58, 72, 91]\n",
    "x = 55\n",
    "\n",
    "solution(L,x)\n",
    "# 오류\n",
    "# 이상하네;"
   ]
  },
  {
   "cell_type": "code",
   "execution_count": 10,
   "metadata": {},
   "outputs": [
    {
     "data": {
      "text/plain": [
       "[20, 37, 58, 65, 72, 91]"
      ]
     },
     "execution_count": 10,
     "metadata": {},
     "output_type": "execute_result"
    }
   ],
   "source": [
    "def solution(L, x):\n",
    "    for i in range(len(L)):\n",
    "        if x < L[i]:\n",
    "            L.insert(i,x)\n",
    "            break\n",
    "        else:\n",
    "            continue\n",
    "    return L\n",
    "\n",
    "L = [20, 37, 58, 72, 91]\n",
    "x = 65\n",
    "\n",
    "solution(L,x)\n",
    "\n",
    "# 세번째 케이스 오류\n",
    "\n",
    "# 주어진 리스트의 모든 원소보다 작거나 큰 경우 다시 고려"
   ]
  },
  {
   "cell_type": "code",
   "execution_count": 15,
   "metadata": {},
   "outputs": [
    {
     "data": {
      "text/plain": [
       "[20, 37, 58, 72, 91, 92]"
      ]
     },
     "execution_count": 15,
     "metadata": {},
     "output_type": "execute_result"
    }
   ],
   "source": [
    "def solution(L, x):\n",
    "    for i in range(len(L)):\n",
    "        if x < L[i]:\n",
    "            L.insert(i,x)\n",
    "            break\n",
    "        else:\n",
    "            continue\n",
    "            \n",
    "    if x > L[-1]:\n",
    "        L.insert(len(L)+1,x)\n",
    "        \n",
    "    return L\n",
    "\n",
    "L = [20, 37, 58, 72, 91]\n",
    "x = 92\n",
    "\n",
    "solution(L,x)\n",
    "\n",
    "# x가 L의 모든 원소보다 크거나 작은 경우를 고려해주어 clear"
   ]
  },
  {
   "cell_type": "markdown",
   "metadata": {},
   "source": [
    "## 2강 실습: (2) 리스트에서 원소 찾아내기 (다시풀기)\n",
    "### 인자로 주어지는 리스트 L 내에서, 또한 인자로 주어지는 원소 x 가 발견되는 모든 인덱스를 구하여 이 인덱스들로 이루어진 리스트를 반환하는 함수 solution 을 완성하세요.\n",
    "\n",
    "리스트 L 은 정수들로 이루어져 있고 그 순서는 임의로 부여되어 있다고 가정하며, 동일한 원소가 반복하여 들어 있을 수 있습니다. 이 안에 정수 x 가 존재하면 그것들을 모두 발견하여 해당 인덱스들을 리스트로 만들어 반환하고, 만약 존재하지 않으면 하나의 원소로 이루어진 리스트 [-1] 를 반환하는 함수를 완성하세요.\n",
    "\n",
    "예를 들어, L = [64, 72, 83, 72, 54] 이고 x = 72 인 경우의 올바른 리턴 값은 [1, 3] 입니다.\n",
    "또 다른 예를 들어, L = [64, 72, 83, 72, 54] 이고 x = 83 인 경우의 올바른 리턴 값은 [2] 입니다.\n",
    "마지막으로 또 다른 예를 들어, L = [64, 72, 83, 72, 54] 이고 x = 49 인 경우의 올바른 리턴 값은 [-1] 입니다.\n",
    "\n",
    "힌트 1: 리스트의 index() 메서드와 리스트 슬라이싱을 활용하는 것이 한 가지 방법이 됩니다. 리스트 슬라이싱은 아래와 같이 동작합니다.\n",
    "\n",
    "L = [6, 2, 8, 7, 3] 인 경우\n",
    "L[1:3] = [2, 8]\n",
    "L[2:] = [8, 7, 3]\n",
    "L[:3] = [6, 2, 8]\n",
    "\n",
    "힌트 2: 리스트의 index() 메서드는, 인자로 주어지는 원소가 리스트 내에 존재하지 않을 때 ValueError 를 일으킵니다. 이것을 try ... except 로 처리해도 되고, if x in L 과 같은 조건문으로 특정 원소가 리스트 내에 존재하는지를 판단해도 됩니다."
   ]
  },
  {
   "cell_type": "code",
   "execution_count": 48,
   "metadata": {},
   "outputs": [],
   "source": [
    "def solution(L, x):\n",
    "    new = []\n",
    "    \n",
    "    if x not in L:\n",
    "        return -1\n",
    "    \n",
    "    else:\n",
    "        for i in range(len(L)):\n",
    "            if L[i] == x:\n",
    "                new.append(i)\n",
    "        return new\n",
    "        \n",
    "        \n",
    "        return new\n",
    "    \n",
    "# 리스트에 중복되는 원소가 존재하는 경우 고려\n",
    "\n",
    "# 안보고 다시 풀기"
   ]
  },
  {
   "cell_type": "code",
   "execution_count": 49,
   "metadata": {},
   "outputs": [
    {
     "data": {
      "text/plain": [
       "[1, 4]"
      ]
     },
     "execution_count": 49,
     "metadata": {},
     "output_type": "execute_result"
    }
   ],
   "source": [
    "L = [1,2,4,5,2]\n",
    "x = 2\n",
    "solution(L,x)"
   ]
  },
  {
   "cell_type": "markdown",
   "metadata": {},
   "source": [
    "## 3강 실습: 이진 탐색 구현해보기\n",
    "### 리스트 L 과, 그 안에서 찾으려 하는 원소 x 가 인자로 주어질 때, x 와 같은 값을 가지는 원소의 인덱스를 리턴하는 함수 solution() 을 완성하세요. 만약 리스트 L 안에 x 와 같은 값을 가지는 원소가 존재하지 않는 경우에는 -1 을 리턴합니다. 리스트 L 은 자연수 원소들로 이루어져 있으며, 크기 순으로 정렬되어 있다고 가정합니다. 또한, 동일한 원소는 두 번 이상 나타나지 않습니다.\n",
    "\n",
    "예를 들어,\n",
    "L = [2, 3, 5, 6, 9, 11, 15]\n",
    "x = 6\n",
    "의 인자들이 주어지면, L[3] == 6 이므로 3 을 리턴해야 합니다.\n",
    "\n",
    "또 다른 예로,\n",
    "L = [2, 5, 7, 9, 11]\n",
    "x = 4\n",
    "로 주어지면, 리스트 L 내에 4 의 원소가 존재하지 않으므로 -1 을 리턴해야 합니다.\n",
    "\n",
    "이 연습문제에서는 알고리즘의 효율성도 평가합니다. 만약 순차 (선형) 탐색 알고리즘을 구현하는 경우에는 제한 시간 요구사항을 만족하지 못하여 효율성 테스트 케이스들을 통과하지 못할 수도 있습니다."
   ]
  },
  {
   "cell_type": "code",
   "execution_count": 7,
   "metadata": {},
   "outputs": [
    {
     "ename": "RecursionError",
     "evalue": "maximum recursion depth exceeded while calling a Python object",
     "output_type": "error",
     "traceback": [
      "\u001b[1;31m---------------------------------------------------------------------------\u001b[0m",
      "\u001b[1;31mRecursionError\u001b[0m                            Traceback (most recent call last)",
      "\u001b[1;32m<ipython-input-7-49e57409183c>\u001b[0m in \u001b[0;36m<module>\u001b[1;34m\u001b[0m\n\u001b[0;32m     21\u001b[0m \u001b[0mx\u001b[0m \u001b[1;33m=\u001b[0m \u001b[1;36m6\u001b[0m\u001b[1;33m\u001b[0m\u001b[1;33m\u001b[0m\u001b[0m\n\u001b[0;32m     22\u001b[0m \u001b[1;33m\u001b[0m\u001b[0m\n\u001b[1;32m---> 23\u001b[1;33m \u001b[0mbinary\u001b[0m\u001b[1;33m(\u001b[0m\u001b[0mL\u001b[0m\u001b[1;33m,\u001b[0m\u001b[0mx\u001b[0m\u001b[1;33m)\u001b[0m\u001b[1;33m\u001b[0m\u001b[1;33m\u001b[0m\u001b[0m\n\u001b[0m",
      "\u001b[1;32m<ipython-input-7-49e57409183c>\u001b[0m in \u001b[0;36mbinary\u001b[1;34m(L, x)\u001b[0m\n\u001b[0;32m     12\u001b[0m     \u001b[1;32melif\u001b[0m \u001b[0mx\u001b[0m \u001b[1;33m>\u001b[0m \u001b[0mmid\u001b[0m\u001b[1;33m:\u001b[0m\u001b[1;33m\u001b[0m\u001b[1;33m\u001b[0m\u001b[0m\n\u001b[0;32m     13\u001b[0m         \u001b[0mL\u001b[0m \u001b[1;33m=\u001b[0m \u001b[0mL\u001b[0m\u001b[1;33m[\u001b[0m\u001b[0mmid\u001b[0m\u001b[1;33m+\u001b[0m\u001b[1;36m1\u001b[0m\u001b[1;33m:\u001b[0m\u001b[1;33m]\u001b[0m\u001b[1;33m\u001b[0m\u001b[1;33m\u001b[0m\u001b[0m\n\u001b[1;32m---> 14\u001b[1;33m         \u001b[1;32mreturn\u001b[0m \u001b[0mbinary\u001b[0m\u001b[1;33m(\u001b[0m\u001b[0mL\u001b[0m\u001b[1;33m,\u001b[0m\u001b[0mx\u001b[0m\u001b[1;33m)\u001b[0m\u001b[1;33m\u001b[0m\u001b[1;33m\u001b[0m\u001b[0m\n\u001b[0m\u001b[0;32m     15\u001b[0m \u001b[1;33m\u001b[0m\u001b[0m\n\u001b[0;32m     16\u001b[0m     \u001b[1;32melse\u001b[0m\u001b[1;33m:\u001b[0m\u001b[1;33m\u001b[0m\u001b[1;33m\u001b[0m\u001b[0m\n",
      "... last 1 frames repeated, from the frame below ...\n",
      "\u001b[1;32m<ipython-input-7-49e57409183c>\u001b[0m in \u001b[0;36mbinary\u001b[1;34m(L, x)\u001b[0m\n\u001b[0;32m     12\u001b[0m     \u001b[1;32melif\u001b[0m \u001b[0mx\u001b[0m \u001b[1;33m>\u001b[0m \u001b[0mmid\u001b[0m\u001b[1;33m:\u001b[0m\u001b[1;33m\u001b[0m\u001b[1;33m\u001b[0m\u001b[0m\n\u001b[0;32m     13\u001b[0m         \u001b[0mL\u001b[0m \u001b[1;33m=\u001b[0m \u001b[0mL\u001b[0m\u001b[1;33m[\u001b[0m\u001b[0mmid\u001b[0m\u001b[1;33m+\u001b[0m\u001b[1;36m1\u001b[0m\u001b[1;33m:\u001b[0m\u001b[1;33m]\u001b[0m\u001b[1;33m\u001b[0m\u001b[1;33m\u001b[0m\u001b[0m\n\u001b[1;32m---> 14\u001b[1;33m         \u001b[1;32mreturn\u001b[0m \u001b[0mbinary\u001b[0m\u001b[1;33m(\u001b[0m\u001b[0mL\u001b[0m\u001b[1;33m,\u001b[0m\u001b[0mx\u001b[0m\u001b[1;33m)\u001b[0m\u001b[1;33m\u001b[0m\u001b[1;33m\u001b[0m\u001b[0m\n\u001b[0m\u001b[0;32m     15\u001b[0m \u001b[1;33m\u001b[0m\u001b[0m\n\u001b[0;32m     16\u001b[0m     \u001b[1;32melse\u001b[0m\u001b[1;33m:\u001b[0m\u001b[1;33m\u001b[0m\u001b[1;33m\u001b[0m\u001b[0m\n",
      "\u001b[1;31mRecursionError\u001b[0m: maximum recursion depth exceeded while calling a Python object"
     ]
    }
   ],
   "source": [
    "def binary(L,x):\n",
    "#     if x not in L:\n",
    "#         return -1\n",
    "    \n",
    "    start = 0\n",
    "    end = len(L)\n",
    "    mid = (start + end) // 2\n",
    "    \n",
    "    if x == mid:\n",
    "        return mid\n",
    "    \n",
    "    elif x > mid:\n",
    "        L = L[mid+1:]\n",
    "        return binary(L,x)\n",
    "    \n",
    "    else:\n",
    "        L = L[:mid]\n",
    "        return binary(L,x)\n",
    "\n",
    "L = [2, 3, 5, 6, 9, 11, 15] \n",
    "x = 6 \n",
    "\n",
    "binary(L,x)\n",
    "\n",
    "# 리스트 범위 초과 오류"
   ]
  },
  {
   "cell_type": "code",
   "execution_count": 29,
   "metadata": {},
   "outputs": [
    {
     "data": {
      "text/plain": [
       "5"
      ]
     },
     "execution_count": 29,
     "metadata": {},
     "output_type": "execute_result"
    }
   ],
   "source": [
    "def solution(L,x, start = None, end= None, mid= None):\n",
    "    \n",
    "    if x not in L:\n",
    "        return -1\n",
    "\n",
    "    if mid == None:\n",
    "        start = 0\n",
    "        end = len(L)\n",
    "        mid = end // 2\n",
    "        \n",
    "    if x == L[mid]:\n",
    "        return mid\n",
    "    \n",
    "    elif x > L[mid]:\n",
    "        start = mid+1\n",
    "        mid = (start+end) //2\n",
    "        return solution(L,x, start, end, mid)\n",
    "    \n",
    "    else:\n",
    "        end = mid\n",
    "        mid = (start+end) //2\n",
    "        return solution(L,x, start, end, mid)\n",
    "\n",
    "\n",
    "L = [2, 3, 5, 6, 9, 11, 15] \n",
    "x = 11\n",
    "binary(L, x)\n",
    "\n",
    "# 효율성 문제 에러"
   ]
  },
  {
   "cell_type": "code",
   "execution_count": 30,
   "metadata": {},
   "outputs": [
    {
     "name": "stdout",
     "output_type": "stream",
     "text": [
      "-1\n",
      "1\n",
      "2\n",
      "3\n",
      "4\n",
      "5\n",
      "-1\n"
     ]
    }
   ],
   "source": [
    "# 예전에 썼던 것\n",
    "def solution(L, x):\n",
    "\tm_index = ((len(L))) // 2\n",
    "\ts_index = 0\n",
    "\te_index = len(L) - 1\n",
    "\n",
    "\twhile L[s_index] <= L[e_index] and ((L[s_index] or L[e_index]) != L[m_index]):\n",
    "\t\tif L[m_index] == x:\n",
    "\t\t\treturn m_index\n",
    "\n",
    "\t\telif L[m_index] < x:\n",
    "\t\t\ts_index = m_index\n",
    "\t\t\tm_index = (s_index + e_index) // 2\n",
    "\n",
    "\t\telse:\n",
    "\t\t\te_index = m_index\n",
    "\t\t\tm_index = (s_index + e_index) // 2\n",
    "\n",
    "\treturn -1\n",
    "\n",
    "L = [2, 3, 5, 6, 9, 11, 15]\n",
    "\n",
    "for x in L:\n",
    "    sol = solution(L, x)\n",
    "    print(sol)"
   ]
  },
  {
   "cell_type": "code",
   "execution_count": 32,
   "metadata": {},
   "outputs": [
    {
     "data": {
      "text/plain": [
       "5"
      ]
     },
     "execution_count": 32,
     "metadata": {},
     "output_type": "execute_result"
    }
   ],
   "source": [
    "def solution(L,x):\n",
    "    answer = 0\n",
    "    lower = 0\n",
    "    upper = len(L)-1\n",
    "    if x in L:\n",
    "        \n",
    "        while lower <= upper:\n",
    "            middle = (lower + upper) // 2\n",
    "            \n",
    "            if L[middle] == x:\n",
    "                answer = middle\n",
    "                break\n",
    "            elif L[middle] < x:\n",
    "                lower = middle + 1\n",
    "            else:\n",
    "                upper = middle - 1\n",
    "    else:\n",
    "        answer = -1\n",
    "    return answer\n",
    "\n",
    "L = [2, 3, 5, 6, 9, 11, 15] \n",
    "x = 11\n",
    "solution(L,x)\n",
    "\n",
    "# 이건 다른분 꺼"
   ]
  },
  {
   "cell_type": "markdown",
   "metadata": {},
   "source": [
    "## 4강 실습: 피보나치 순열 구현하기\n",
    "### 인자로 0 또는 양의 정수인 x 가 주어질 때, Fibonacci 순열의 해당 값을 구하여 반환하는 함수 solution() 을 완성하세요.\n",
    "\n",
    "Fibonacci 순열은 아래와 같이 정의됩니다.\n",
    "F0 = 0\n",
    "F1 = 1\n",
    "Fn = Fn - 1 + Fn - 2, n >= 2\n",
    "\n",
    "재귀함수 작성 연습을 의도한 것이므로, 재귀적 방법으로도 프로그래밍해 보고, 반복적 방법으로도 프로그래밍해 보시기 바랍니다."
   ]
  },
  {
   "cell_type": "code",
   "execution_count": 36,
   "metadata": {},
   "outputs": [
    {
     "data": {
      "text/plain": [
       "5"
      ]
     },
     "execution_count": 36,
     "metadata": {},
     "output_type": "execute_result"
    }
   ],
   "source": [
    "def solution(x):\n",
    "    if x <= 1:\n",
    "        return x\n",
    "    else:\n",
    "        return solution(x-1) + solution(x-2)\n",
    "solution(5)"
   ]
  },
  {
   "cell_type": "markdown",
   "metadata": {},
   "source": [
    "## 5강 실습: 재귀적 이진 탐색 구현하기\n",
    "### 리스트 L 과, 그 안에서 찾으려 하는 원소 x 가 인자로 주어지고, 또한 탐색의 대상이 되는 리스트 내에서의 범위 인덱스가 l 부터 u 까지로 (인자로) 정해질 때, x 와 같은 값을 가지는 원소의 인덱스를 리턴하는 함수 solution() 을 완성하세요. 만약 리스트 L 안에 x 와 같은 값을 가지는 원소가 존재하지 않는 경우에는 -1 을 리턴합니다. 리스트 L 은 자연수 원소들로 이루어져 있으며, 크기 순으로 정렬되어 있다고 가정합니다. 또한, 동일한 원소는 두 번 이상 나타나지 않습니다.\n",
    "\n",
    "인덱스 범위를 나타내는 l 과 u 가 인자로 주어지는 이유는, 이 함수를 재귀적인 방법으로 구현하기 위함입니다. 빈 칸에 알맞은 내용을 채워서 재귀 함수인 solution() 을 완성하세요.\n",
    "\n",
    "예를 들어,\n",
    "L = [2, 3, 5, 6, 9, 11, 15]\n",
    "x = 6\n",
    "l = 0\n",
    "u = 6\n",
    "의 인자들이 주어지면, L[3] == 6 이므로 3 을 리턴해야 합니다.\n",
    "\n",
    "또 다른 예로,\n",
    "L = [2, 5, 7, 9, 11]\n",
    "x = 4\n",
    "l = 0\n",
    "u = 4\n",
    "로 주어지면, 리스트 L 내에 4 의 원소가 존재하지 않으므로 -1 을 리턴해야 합니다."
   ]
  },
  {
   "cell_type": "code",
   "execution_count": 55,
   "metadata": {},
   "outputs": [
    {
     "data": {
      "text/plain": [
       "-1"
      ]
     },
     "execution_count": 55,
     "metadata": {},
     "output_type": "execute_result"
    }
   ],
   "source": [
    "# 아 이진탐색\n",
    "def solution(L, x, l, u):\n",
    "    \n",
    "    if x not in L:\n",
    "        return -1\n",
    "    \n",
    "    mid = (l + u) // 2\n",
    "    \n",
    "    if x == L[mid]:\n",
    "        \n",
    "        return mid\n",
    "    \n",
    "    elif x > L[mid]:\n",
    "        \n",
    "        return solution(L, x, mid+1, u )\n",
    "    \n",
    "    elif x < L[mid]:\n",
    "    \n",
    "        return solution(L, x, l, mid)\n",
    "    \n",
    "    \n",
    "L = [2, 3, 5, 6, 9, 11, 15] \n",
    "x = 17\n",
    "l = 0 \n",
    "u = 6\n",
    "\n",
    "solution(L, x, l, u)\n",
    "        \n",
    "    "
   ]
  },
  {
   "cell_type": "markdown",
   "metadata": {},
   "source": [
    "## 7강 실습: 연결 리스트 순회 구현하기\n",
    "### 제 7 강에서 소개된 추상적 자료구조로 LinkedList 라는 이름의 클래스가 정의되어 있다고 가정하고, 이 리스트를 처음부터 끝까지 순회하는 메서드 traverse() 를 완성하세요.\n",
    "\n",
    "메서드 traverse() 는 리스트를 리턴하되, 이 리스트에는 연결 리스트의 노드들에 들어 있는 데이터 아이템들을 연결 리스트에서의 순서와 같도록 포함합니다. 예를 들어, LinkedList L 에 들어 있는 노드들이 43 -> 85 -> 62 라면, 올바른 리턴 값은 [43, 85, 62] 입니다.\n",
    "\n",
    "이 규칙을 적용하면, 빈 연결 리스트에 대한 순회 결과로 traverse() 메서드가 리턴해야 할 올바른 결과는 [] 입니다.\n",
    "\n",
    "[참고] 실행 을 눌렀을 때 통과하는 것은 아무 의미 없습니다."
   ]
  },
  {
   "cell_type": "markdown",
   "metadata": {},
   "source": [
    "- Node : data, link로 구성. 클래스로 표현 가능/ Head, Tail로 구성"
   ]
  },
  {
   "cell_type": "code",
   "execution_count": 56,
   "metadata": {},
   "outputs": [],
   "source": [
    "# Linkedlist 연결리스트\n",
    "class Node:\n",
    "    def __init__(self, item):\n",
    "        self.data = item\n",
    "        self.next = None\n",
    "        \n",
    "class LinkedList:\n",
    "    \n",
    "    def __init__(self):\n",
    "        self.nodeCount = 0\n",
    "        self.head = None\n",
    "        self.tail = None  # 비어있는 연결 리스트\n",
    "\n",
    "        \n",
    "    def getAt(self, pos): # 특정원소 참조\n",
    "        if pos <=0 or pos> self.nodeCount:\n",
    "            return None\n",
    "        \n",
    "        i = 1\n",
    "        curr = self.head\n",
    "        whiel i < pos:\n",
    "\n",
    "            curr = curr.next\n",
    "            i+=1\n",
    "        return curr\n",
    "    \n",
    "        \n",
    "    def traverse(self):\n",
    "        curr = self.head\n",
    "        res = []\n",
    "        if curr:\n",
    "            res.append(curr.data)\n",
    "            curr = curr.next\n",
    "        return res\n",
    "\n",
    "# if 문으로 하니까 에러나는데, while문으로 바꾸니까 통과된다. (?)\n",
    "\n",
    "# 리스트 순회: 연결된 리스트의 모든 노드들을 순회하는 것\n",
    "        \n",
    "# 아래와 같은 것을 배울 것이다.\n",
    "# ------------------------------\n",
    "# 특정 원소 참조 (k번째)\n",
    "\n",
    "# 리스트 순회\n",
    "\n",
    "# 길이 얻어내기\n",
    "\n",
    "# 원소 삽입/삭제\n",
    "\n",
    "# 두 리스트 합치기\n",
    "# ------------------------------\n",
    "        "
   ]
  },
  {
   "cell_type": "code",
   "execution_count": null,
   "metadata": {},
   "outputs": [],
   "source": [
    "class Node:\n",
    "    def __init__(self, item):\n",
    "        self.data = item\n",
    "        self.next = None\n",
    "        \n",
    "class LinkedList:\n",
    "    def __init__(self):\n",
    "        self.head = None\n",
    "        self.tail = None\n",
    "        self.nodeCount = 3\n",
    "        \n",
    "    def getAt(self, pos):\n",
    "        if pos < 1 or pos > self.nodeCount:\n",
    "            return None\n",
    "        \n",
    "        \n",
    "        i = 1\n",
    "        curr = self.head\n",
    "        \n",
    "        while i < pos:\n",
    "            curr = curr.next\n",
    "            i += 1\n",
    "        return curr\n",
    "    \n",
    "    def traverse(self):\n",
    "        curr = self.head\n",
    "        res = []\n",
    "        while curr != None:\n",
    "            res.append(curr.data)\n",
    "            curr = curr.next\n",
    "        return res\n",
    "\n"
   ]
  },
  {
   "cell_type": "markdown",
   "metadata": {},
   "source": [
    "# Class 클래스란!"
   ]
  },
  {
   "cell_type": "code",
   "execution_count": 61,
   "metadata": {},
   "outputs": [],
   "source": [
    "# 클래스 안에 구현된 함수는 다른 말로 메서드(method)라고 부른다.\n",
    "\n",
    "class FourCal:\n",
    "#     def setdata(self, first, second):\n",
    "#         self.first = first\n",
    "#         self.second = second\n",
    "        \n",
    "    def __init__(self, first, second):\n",
    "        self.first = first\n",
    "        self.second = second\n",
    "    \n",
    "    def add(self):\n",
    "        result = self.first+self.second\n",
    "        return result\n",
    "    \n",
    "    def sub(self):\n",
    "        result = self.first - self.second\n",
    "        return result\n",
    "    \n",
    "    def mul(self):\n",
    "        result = self.first * self.second\n",
    "        return result\n",
    "    \n",
    "    def div(self):\n",
    "        result = self.first / self.second\n",
    "        return result\n",
    "        \n",
    "        "
   ]
  },
  {
   "cell_type": "code",
   "execution_count": 66,
   "metadata": {},
   "outputs": [
    {
     "data": {
      "text/plain": [
       "12"
      ]
     },
     "execution_count": 66,
     "metadata": {},
     "output_type": "execute_result"
    }
   ],
   "source": [
    "a = FourCal(3,4)\n",
    "#b = FourCal()   # a,b 라는 객체\n",
    "#a.add(3,4)  # setdata()메서드:: a라는 객체에 3,4라는 매개변수(입력값) 선언.\n",
    "a.add()\n",
    "# __init__메서드 선언함으로 add메서드를 더 쉽게 호출 가능\n",
    "a.mul()\n"
   ]
  },
  {
   "cell_type": "markdown",
   "metadata": {},
   "source": [
    "## 8강 실습: 연결 리스트 노드 삭제하기\n",
    "### 제 8 강에서 소개된 추상적 자료구조 LinkedList 클래스의 메서드로서 popAt() 메서드를 강의 내용에 소개된 요구조건을 만족시키도록 구현하세요.\n",
    "\n",
    "초기 코드로 들어 있는 것은 solution() 함수를 포함하여 다른 부분은 수정하지 말고, def popAt(self, pos): 의 메서드 몸체만 구현하세요.\n",
    "\n",
    "만약, 인자로 주어진 pos 가 올바른 범위의 값을 가지지 않는 경우에는 IndexError exception 을 발생시키도록 합니다. 이렇게 하기 위한 코드는 raise IndexError 입니다."
   ]
  },
  {
   "cell_type": "code",
   "execution_count": null,
   "metadata": {},
   "outputs": [],
   "source": [
    "class Node:\n",
    "\n",
    "    def __init__(self, item):\n",
    "        self.data = item\n",
    "        self.next = None\n",
    "\n",
    "\n",
    "class LinkedList:\n",
    "\n",
    "    def __init__(self):\n",
    "        self.nodeCount = 0\n",
    "        self.head = None\n",
    "        self.tail = None\n",
    "\n",
    "\n",
    "    def getAt(self, pos):\n",
    "        if pos < 1 or pos > self.nodeCount:\n",
    "            return None\n",
    "\n",
    "        i = 1\n",
    "        curr = self.head\n",
    "        while i < pos:\n",
    "            curr = curr.next\n",
    "            i += 1\n",
    "\n",
    "        return curr\n",
    "\n",
    "    def insertAt(self, pos, newNode):\n",
    "        if pos < 1 or pos > self.nodeCount + 1:\n",
    "            return False\n",
    "\n",
    "        if pos == 1:\n",
    "            newNode.next = self.head\n",
    "            self.head = newNode\n",
    "        else:\n",
    "            if pos == self.nodeCount + 1:\n",
    "                prev = self.tail\n",
    "            else:\n",
    "                prev = self.getAt(pos - 1)\n",
    "            newNode.next = prev.next\n",
    "            prev.next = newNode\n",
    "\n",
    "        if pos == self.nodeCount + 1:\n",
    "            self.tail = newNode\n",
    "\n",
    "        self.nodeCount += 1\n",
    "        return True\n",
    "\n",
    "    def popAt(self, pos):\n",
    "        if pos < 1 or pos > self.nodeCount:\n",
    "            return False\n",
    "        if pos == 1:\n",
    "            self.head = self.head.next\n",
    "            self.nodeCount -= 1\n",
    "\n",
    "        else:\n",
    "            prev = self.getAt(pos - 1)\n",
    "            curr = self.getAt(pos)\n",
    "            prev.next = curr.next\n",
    "            self.nodeCount -= 1\n",
    "        return True\n",
    "\n",
    "# 삭제하려는 노드가 맨 앞 일때: head 조정 필요\n",
    "# 삭제하려는 노드가 맨 뒤 일때(즉 pos == nodeCount 일 때): curr == tail 조정 필요\n",
    " # prev를 찾을 방법이 없으므로 앞에서 부터 찾아야 한다.\n",
    "\n",
    "    def traverse(self):\n",
    "        result = []\n",
    "        curr = self.head\n",
    "        while curr is not None:\n",
    "            result.append(curr.data)\n",
    "            curr = curr.next\n",
    "        return result\n",
    "\n",
    "def solution(x):\n",
    "    return 0"
   ]
  },
  {
   "cell_type": "code",
   "execution_count": 77,
   "metadata": {},
   "outputs": [],
   "source": [
    "def insertAt(self, pos, newNode):\n",
    "    if pos <1 or pos > self.nodeCount+1:\n",
    "        return False\n",
    "    \n",
    "    if pos == 1:\n",
    "        newNode.next = self.head \n",
    "        #새노드의 넥스트는 원래 헤드를 가리키고, head가 새로운 노드를 가리키도록 한다\n",
    "        self.head = newNode   # 여기랑\n",
    "    \n",
    "    else:\n",
    "        if pos == self.nodeCount + 1: # 마지막 tail에 붙일 때\n",
    "            prev = self.tail\n",
    "        else:\n",
    "            prev = self.getAt(pos-1)\n",
    "            \n",
    "        newNode.next = prev.next # 새 노드를 pos에 이어주고\n",
    "        prev.next = newNode # 기존의 pos -1 번째 노드를 새 노드에 이어주고\n",
    "        \n",
    "    if pos == self.nodeCount + 1:\n",
    "        self.tail = newNode # 여기는 빈 리스트 일때 삽입되는 경우를 커버해준다\n",
    "        \n",
    "    self.nodeCount += 1 # 노드 카운트를 하나 추가해준다.\n",
    "    return True\n",
    "    \n",
    "    \n",
    "# 맨앞에 삽입: O(1)\n",
    "# 중간에 삽입: O(n)\n",
    "# 맨끝에 삽입: O(1)\n",
    "\n"
   ]
  },
  {
   "cell_type": "markdown",
   "metadata": {},
   "source": [
    "#### popAt\n",
    "\n",
    "1) 삭제하려는 node가 맨 앞의 것일 때\n",
    "- prev없음, head조정 필요\n",
    "\n",
    "2) 리스트 맨끈의 node를 삭제할 때\n",
    "- tail 조정 필요\n",
    "\n",
    "* 유일한 노드 삭제할 때, 이 두 조건에 의해 처리되는가?\n",
    "\n",
    "3) 삭제하려는 node가 마지막 node일 때, 한 번에 처리할 수 없다( prev를 찾을 방법이 없으므로(이것이 선형배열과 연결리스트의 차이점)) -> 앞에서부터 찾아와야 함\n",
    "\n",
    "\n",
    "##### 맨 앞에서 삭제하는 경우 : O(1)\n",
    "##### 중간에서 삭제하는 경우: O(n)\n",
    "##### 맨 끝에 삭제하는 경우: O(n)\n",
    "\n",
    "\n",
    "## 삽입과 삭제를 쉽게 할 수 있다는 장점이 연결리스트"
   ]
  },
  {
   "cell_type": "code",
   "execution_count": null,
   "metadata": {},
   "outputs": [],
   "source": [
    "class Node:\n",
    "\n",
    "    def __init__(self, item):\n",
    "        self.data = item\n",
    "        self.next = None\n",
    "\n",
    "\n",
    "class LinkedList:\n",
    "\n",
    "    def __init__(self):\n",
    "        self.nodeCount = 0\n",
    "        self.head = None\n",
    "        self.tail = None\n",
    "\n",
    "\n",
    "    def getAt(self, pos):\n",
    "        if pos < 1 or pos > self.nodeCount:\n",
    "            return None\n",
    "\n",
    "        i = 1\n",
    "        curr = self.head\n",
    "        while i < pos:\n",
    "            curr = curr.next\n",
    "            i += 1\n",
    "\n",
    "        return curr\n",
    "\n",
    "\n",
    "    def insertAt(self, pos, newNode):\n",
    "        if pos < 1 or pos > self.nodeCount + 1:\n",
    "            return False\n",
    "\n",
    "        if pos == 1:\n",
    "            newNode.next = self.head\n",
    "            self.head = newNode\n",
    "\n",
    "        else:\n",
    "            if pos == self.nodeCount + 1:\n",
    "                prev = self.tail\n",
    "            else:\n",
    "                prev = self.getAt(pos - 1)\n",
    "            newNode.next = prev.next\n",
    "            prev.next = newNode\n",
    "\n",
    "        if pos == self.nodeCount + 1:\n",
    "            self.tail = newNode\n",
    "\n",
    "        self.nodeCount += 1\n",
    "        return True\n",
    "\n",
    "\n",
    "    def popAt(self, pos):\n",
    "        if pos < 1 or pos > self.nodeCount:\n",
    "            raise IndexError\n",
    "        curr = self.getAt(pos) # 피드백으로 추가\n",
    "        \n",
    "        # 노드가 하나인 경우를 처리해줘야 한다.   \n",
    "        if (pos == 1) and (self.nodeCount == 1): # 전체 노드가 하나일 때\n",
    "            self.head = None\n",
    "            self.tail = None\n",
    "            \n",
    "        if (pos == 1) and (self.nodeCount != 1): \n",
    "            # 여기를 elif로 바꾸니까 정답이 돼부렀다...\n",
    "            self.head = self.head.next\n",
    "            \n",
    "\n",
    "        else: # head 노드 이외의 것을 삭제할 때\n",
    "            prev = self.getAt(pos - 1)\n",
    "            \n",
    "            if self.nodeCount == pos: # 마지막 노드를 삭제할 때\n",
    "                \n",
    "                self.tail = prev\n",
    "                self.tail.next = None # 피드백으로 추가한 부분\n",
    "                \n",
    "            else: # 마지막 노드 이외의 것을 삭제할 때\n",
    "                prev.next = prev.next.next\n",
    "        self.nodeCount -= 1\n",
    "             \n",
    "        \n",
    "        return curr.data\n",
    "\n",
    "    def traverse(self):\n",
    "        result = []\n",
    "        curr = self.head\n",
    "        while curr is not None:\n",
    "            result.append(curr.data)\n",
    "            curr = curr.next\n",
    "        return result\n",
    "\n",
    "\n",
    "def solution(x):\n",
    "    return 0\n",
    "\n",
    "#62번 줄 하나에 정답이 달려있었다."
   ]
  },
  {
   "cell_type": "code",
   "execution_count": null,
   "metadata": {},
   "outputs": [],
   "source": []
  },
  {
   "cell_type": "code",
   "execution_count": null,
   "metadata": {},
   "outputs": [],
   "source": []
  }
 ],
 "metadata": {
  "kernelspec": {
   "display_name": "Python 3",
   "language": "python",
   "name": "python3"
  },
  "language_info": {
   "codemirror_mode": {
    "name": "ipython",
    "version": 3
   },
   "file_extension": ".py",
   "mimetype": "text/x-python",
   "name": "python",
   "nbconvert_exporter": "python",
   "pygments_lexer": "ipython3",
   "version": "3.7.3"
  }
 },
 "nbformat": 4,
 "nbformat_minor": 2
}
