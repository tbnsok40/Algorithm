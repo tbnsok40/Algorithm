{
 "cells": [
  {
   "cell_type": "markdown",
   "metadata": {},
   "source": [
    "## 1강 실습: 리스트 원소 두 개의 합 구하기\n",
    "### 입력으로 주어지는 리스트 x 의 첫 원소와 마지막 원소의 합을 리턴하는 함수 solution() 을 완성하세요."
   ]
  },
  {
   "cell_type": "code",
   "execution_count": 17,
   "metadata": {},
   "outputs": [],
   "source": [
    "def solution(x):\n",
    "    sum = x[0] + x[-1]\n",
    "    return sum"
   ]
  },
  {
   "cell_type": "markdown",
   "metadata": {},
   "source": [
    "## 2강 실습: (1) 리스트에 새로운 요소 삽입하기\n",
    "### 리스트 L 과 정수 x 가 인자로 주어질 때, 리스트 내의 올바른 위치에 x 를 삽입하여 그 결과 리스트를 반환하는 함수 solution 을 완성하세요.\n",
    "\n",
    "인자로 주어지는 리스트 L 은 정수 원소들로 이루어져 있으며 크기에 따라 (오름차순으로) 정렬되어 있다고 가정합니다.\n",
    "\n",
    "예를 들어, L = [20, 37, 58, 72, 91] 이고 x = 65 인 경우, 올바른 리턴 값은 [20, 37, 58, 65, 72, 91] 입니다.\n",
    "\n",
    "힌트: 순환문을 이용하여 올바른 위치를 결정하고 insert() 메서드를 이용하여 삽입하는 것이 한 가지 방법입니다.\n",
    "\n",
    "주의: 리스트 내에 존재하는 모든 원소들보다 작거나 모든 원소들보다 큰 정수가 주어지는 경우에 대해서도 올바르게 처리해야 합니다."
   ]
  },
  {
   "cell_type": "code",
   "execution_count": 16,
   "metadata": {},
   "outputs": [
    {
     "data": {
      "text/plain": [
       "[20, 37, 55, 55, 55, 58, 72, 91]"
      ]
     },
     "execution_count": 16,
     "metadata": {},
     "output_type": "execute_result"
    }
   ],
   "source": [
    "def solution(L, x):\n",
    "    for i in range(len(L)):\n",
    "        if x < L[i]:\n",
    "            L.insert(i,x)\n",
    "            continue\n",
    "        else:\n",
    "            continue\n",
    "    return L\n",
    "\n",
    "\n",
    "L = [20, 37, 58, 72, 91]\n",
    "x = 55\n",
    "\n",
    "solution(L,x)\n",
    "# 오류\n",
    "# 이상하네;"
   ]
  },
  {
   "cell_type": "code",
   "execution_count": 10,
   "metadata": {},
   "outputs": [
    {
     "data": {
      "text/plain": [
       "[20, 37, 58, 65, 72, 91]"
      ]
     },
     "execution_count": 10,
     "metadata": {},
     "output_type": "execute_result"
    }
   ],
   "source": [
    "def solution(L, x):\n",
    "    for i in range(len(L)):\n",
    "        if x < L[i]:\n",
    "            L.insert(i,x)\n",
    "            break\n",
    "        else:\n",
    "            continue\n",
    "    return L\n",
    "\n",
    "L = [20, 37, 58, 72, 91]\n",
    "x = 65\n",
    "\n",
    "solution(L,x)\n",
    "\n",
    "# 세번째 케이스 오류\n",
    "\n",
    "# 주어진 리스트의 모든 원소보다 작거나 큰 경우 다시 고려"
   ]
  },
  {
   "cell_type": "code",
   "execution_count": 15,
   "metadata": {},
   "outputs": [
    {
     "data": {
      "text/plain": [
       "[20, 37, 58, 72, 91, 92]"
      ]
     },
     "execution_count": 15,
     "metadata": {},
     "output_type": "execute_result"
    }
   ],
   "source": [
    "def solution(L, x):\n",
    "    for i in range(len(L)):\n",
    "        if x < L[i]:\n",
    "            L.insert(i,x)\n",
    "            break\n",
    "        else:\n",
    "            continue\n",
    "            \n",
    "    if x > L[-1]:\n",
    "        L.insert(len(L)+1,x)\n",
    "        \n",
    "    return L\n",
    "\n",
    "L = [20, 37, 58, 72, 91]\n",
    "x = 92\n",
    "\n",
    "solution(L,x)\n",
    "\n",
    "# x가 L의 모든 원소보다 크거나 작은 경우를 고려해주어 clear"
   ]
  },
  {
   "cell_type": "markdown",
   "metadata": {},
   "source": [
    "## 2강 실습: (2) 리스트에서 원소 찾아내기 (다시풀기)\n",
    "### 인자로 주어지는 리스트 L 내에서, 또한 인자로 주어지는 원소 x 가 발견되는 모든 인덱스를 구하여 이 인덱스들로 이루어진 리스트를 반환하는 함수 solution 을 완성하세요.\n",
    "\n",
    "리스트 L 은 정수들로 이루어져 있고 그 순서는 임의로 부여되어 있다고 가정하며, 동일한 원소가 반복하여 들어 있을 수 있습니다. 이 안에 정수 x 가 존재하면 그것들을 모두 발견하여 해당 인덱스들을 리스트로 만들어 반환하고, 만약 존재하지 않으면 하나의 원소로 이루어진 리스트 [-1] 를 반환하는 함수를 완성하세요.\n",
    "\n",
    "예를 들어, L = [64, 72, 83, 72, 54] 이고 x = 72 인 경우의 올바른 리턴 값은 [1, 3] 입니다.\n",
    "또 다른 예를 들어, L = [64, 72, 83, 72, 54] 이고 x = 83 인 경우의 올바른 리턴 값은 [2] 입니다.\n",
    "마지막으로 또 다른 예를 들어, L = [64, 72, 83, 72, 54] 이고 x = 49 인 경우의 올바른 리턴 값은 [-1] 입니다.\n",
    "\n",
    "힌트 1: 리스트의 index() 메서드와 리스트 슬라이싱을 활용하는 것이 한 가지 방법이 됩니다. 리스트 슬라이싱은 아래와 같이 동작합니다.\n",
    "\n",
    "L = [6, 2, 8, 7, 3] 인 경우\n",
    "L[1:3] = [2, 8]\n",
    "L[2:] = [8, 7, 3]\n",
    "L[:3] = [6, 2, 8]\n",
    "\n",
    "힌트 2: 리스트의 index() 메서드는, 인자로 주어지는 원소가 리스트 내에 존재하지 않을 때 ValueError 를 일으킵니다. 이것을 try ... except 로 처리해도 되고, if x in L 과 같은 조건문으로 특정 원소가 리스트 내에 존재하는지를 판단해도 됩니다."
   ]
  },
  {
   "cell_type": "code",
   "execution_count": 48,
   "metadata": {},
   "outputs": [],
   "source": [
    "def solution(L, x):\n",
    "    new = []\n",
    "    \n",
    "    if x not in L:\n",
    "        return -1\n",
    "    \n",
    "    else:\n",
    "        for i in range(len(L)):\n",
    "            if L[i] == x:\n",
    "                new.append(i)\n",
    "        return new\n",
    "        \n",
    "        \n",
    "        return new\n",
    "    \n",
    "# 리스트에 중복되는 원소가 존재하는 경우 고려\n",
    "\n",
    "# 안보고 다시 풀기"
   ]
  },
  {
   "cell_type": "code",
   "execution_count": 49,
   "metadata": {},
   "outputs": [
    {
     "data": {
      "text/plain": [
       "[1, 4]"
      ]
     },
     "execution_count": 49,
     "metadata": {},
     "output_type": "execute_result"
    }
   ],
   "source": [
    "L = [1,2,4,5,2]\n",
    "x = 2\n",
    "solution(L,x)"
   ]
  },
  {
   "cell_type": "code",
   "execution_count": null,
   "metadata": {},
   "outputs": [],
   "source": []
  },
  {
   "cell_type": "code",
   "execution_count": null,
   "metadata": {},
   "outputs": [],
   "source": []
  }
 ],
 "metadata": {
  "kernelspec": {
   "display_name": "Python 3",
   "language": "python",
   "name": "python3"
  },
  "language_info": {
   "codemirror_mode": {
    "name": "ipython",
    "version": 3
   },
   "file_extension": ".py",
   "mimetype": "text/x-python",
   "name": "python",
   "nbconvert_exporter": "python",
   "pygments_lexer": "ipython3",
   "version": "3.7.3"
  }
 },
 "nbformat": 4,
 "nbformat_minor": 2
}
