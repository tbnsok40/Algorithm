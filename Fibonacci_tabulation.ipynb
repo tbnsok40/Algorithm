{
 "cells": [
  {
   "cell_type": "markdown",
   "metadata": {},
   "source": [
    "# 내가 푼 것(억지)"
   ]
  },
  {
   "cell_type": "code",
   "execution_count": null,
   "metadata": {},
   "outputs": [],
   "source": [
    "def fib_tab(n):\n",
    "    tab = [0,1,1]\n",
    "    if n <= 2:\n",
    "        return tab[n]\n",
    "    else: \n",
    "#       n= 4일 때,\n",
    "#         tab[3]이 필요하기에, tab[2}+tab[1]을 더한다.\n",
    "#       n = 5일 때\n",
    "#          tab[4]이 필요하기에, tab[3]+tab[2]\n",
    "\n",
    "        for i in range(3, n+1):\n",
    "            new = tab[i-1] + tab[i-2]\n",
    "            tab.append(new)\n",
    "#     new = fib_tab(n-1) + fib_tab(n-2)\n",
    "    \n",
    "    return tab[n]\n",
    "\n",
    "# 테스트\n",
    "print(fib_tab(10))\n",
    "print(fib_tab(56))\n",
    "print(fib_tab(132))"
   ]
  },
  {
   "cell_type": "markdown",
   "metadata": {},
   "source": [
    "# 코드잇 답"
   ]
  },
  {
   "cell_type": "code",
   "execution_count": 2,
   "metadata": {},
   "outputs": [
    {
     "name": "stdout",
     "output_type": "stream",
     "text": [
      "55\n",
      "225851433717\n",
      "1725375039079340637797070384\n"
     ]
    }
   ],
   "source": [
    "def fib_tab(n):\n",
    "    tab = [0,1,1]\n",
    "    if n <= 2:\n",
    "        return tab[n]\n",
    "    else: \n",
    "#       n= 4일 때,\n",
    "#         tab[3]이 필요하기에, tab[2}+tab[1]을 더한다.\n",
    "#       n = 5일 때\n",
    "#          tab[4]이 필요하기에, tab[3]+tab[2]\n",
    "\n",
    "        for i in range(3, n+1):\n",
    "            \n",
    "            tab.append(tab[i-1] + tab[i-2])\n",
    "#     new = fib_tab(n-1) + fib_tab(n-2)\n",
    "    \n",
    "    return tab[n]\n",
    "\n",
    "# 테스트\n",
    "print(fib_tab(10))\n",
    "print(fib_tab(56))\n",
    "print(fib_tab(132))"
   ]
  },
  {
   "cell_type": "code",
   "execution_count": null,
   "metadata": {},
   "outputs": [],
   "source": []
  },
  {
   "cell_type": "markdown",
   "metadata": {},
   "source": [
    "# 내가 한번 더 잘 못 푼것"
   ]
  },
  {
   "cell_type": "code",
   "execution_count": null,
   "metadata": {},
   "outputs": [],
   "source": [
    "def fib_tab(n):\n",
    "    tab = [0,1,1]\n",
    "    if n <= 2:\n",
    "        return tab[n]\n",
    "    else: \n",
    "#       n= 4일 때,\n",
    "#         tab[3]이 필요하기에, tab[2}+tab[1]을 더한다.\n",
    "#       n = 5일 때\n",
    "#          tab[4]이 필요하기에, tab[3]+tab[2]\n",
    "\n",
    "        for i in range(3, n+1):\n",
    "            \n",
    "            tab.append(fib_tab(i-1) + fib_tab(i-2))\n",
    "#     new = fib_tab(n-1) + fib_tab(n-2)\n",
    "    \n",
    "    return tab[n]\n",
    "\n",
    "# 테스트\n",
    "print(fib_tab(10))\n",
    "print(fib_tab(56))\n",
    "print(fib_tab(132))\n",
    "\n",
    "#요래 풀면 두번째 시뮬레이션에서 시간이 너무 오래걸리게 된다."
   ]
  }
 ],
 "metadata": {
  "kernelspec": {
   "display_name": "Python 3",
   "language": "python",
   "name": "python3"
  },
  "language_info": {
   "codemirror_mode": {
    "name": "ipython",
    "version": 3
   },
   "file_extension": ".py",
   "mimetype": "text/x-python",
   "name": "python",
   "nbconvert_exporter": "python",
   "pygments_lexer": "ipython3",
   "version": "3.7.3"
  }
 },
 "nbformat": 4,
 "nbformat_minor": 2
}
